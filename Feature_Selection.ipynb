{
 "cells": [
  {
   "cell_type": "code",
   "execution_count": 1,
   "id": "df076960",
   "metadata": {},
   "outputs": [
    {
     "name": "stdout",
     "output_type": "stream",
     "text": [
      "Requirement already satisfied: boruta in c:\\programdata\\anaconda3\\lib\\site-packages (0.3)\n",
      "Requirement already satisfied: numpy>=1.10.4 in c:\\users\\sasai\\appdata\\roaming\\python\\python38\\site-packages (from boruta) (1.19.5)\n",
      "Requirement already satisfied: scipy>=0.17.0 in c:\\programdata\\anaconda3\\lib\\site-packages (from boruta) (1.7.1)\n",
      "Requirement already satisfied: scikit-learn>=0.17.1 in c:\\programdata\\anaconda3\\lib\\site-packages (from boruta) (0.24.2)\n",
      "Requirement already satisfied: threadpoolctl>=2.0.0 in c:\\programdata\\anaconda3\\lib\\site-packages (from scikit-learn>=0.17.1->boruta) (2.2.0)\n",
      "Requirement already satisfied: joblib>=0.11 in c:\\programdata\\anaconda3\\lib\\site-packages (from scikit-learn>=0.17.1->boruta) (1.0.1)\n"
     ]
    }
   ],
   "source": [
    "!pip install boruta"
   ]
  },
  {
   "cell_type": "code",
   "execution_count": 2,
   "id": "45cb4572",
   "metadata": {},
   "outputs": [],
   "source": [
    "import os \n",
    "import pandas as pd\n",
    "import numpy as np\n",
    "from sklearn.linear_model import LinearRegression, Lasso, Ridge,SGDRegressor,LogisticRegression\n",
    "import matplotlib.pyplot as plt\n",
    "import seaborn as sns"
   ]
  },
  {
   "cell_type": "code",
   "execution_count": 3,
   "id": "92902a51",
   "metadata": {},
   "outputs": [
    {
     "data": {
      "text/html": [
       "<div>\n",
       "<style scoped>\n",
       "    .dataframe tbody tr th:only-of-type {\n",
       "        vertical-align: middle;\n",
       "    }\n",
       "\n",
       "    .dataframe tbody tr th {\n",
       "        vertical-align: top;\n",
       "    }\n",
       "\n",
       "    .dataframe thead th {\n",
       "        text-align: right;\n",
       "    }\n",
       "</style>\n",
       "<table border=\"1\" class=\"dataframe\">\n",
       "  <thead>\n",
       "    <tr style=\"text-align: right;\">\n",
       "      <th></th>\n",
       "      <th>Loan_ID</th>\n",
       "      <th>Gender</th>\n",
       "      <th>Married</th>\n",
       "      <th>Dependents</th>\n",
       "      <th>Education</th>\n",
       "      <th>Self_Employed</th>\n",
       "      <th>ApplicantIncome</th>\n",
       "      <th>CoapplicantIncome</th>\n",
       "      <th>LoanAmount</th>\n",
       "      <th>Loan_Amount_Term</th>\n",
       "      <th>Credit_History</th>\n",
       "      <th>Property_Area</th>\n",
       "      <th>Loan_Status</th>\n",
       "    </tr>\n",
       "  </thead>\n",
       "  <tbody>\n",
       "    <tr>\n",
       "      <th>0</th>\n",
       "      <td>LP001002</td>\n",
       "      <td>Male</td>\n",
       "      <td>No</td>\n",
       "      <td>0.0</td>\n",
       "      <td>Graduate</td>\n",
       "      <td>No</td>\n",
       "      <td>5849</td>\n",
       "      <td>0.0</td>\n",
       "      <td>NaN</td>\n",
       "      <td>360.0</td>\n",
       "      <td>1.0</td>\n",
       "      <td>Urban</td>\n",
       "      <td>Y</td>\n",
       "    </tr>\n",
       "    <tr>\n",
       "      <th>1</th>\n",
       "      <td>LP001003</td>\n",
       "      <td>Male</td>\n",
       "      <td>Yes</td>\n",
       "      <td>1.0</td>\n",
       "      <td>Graduate</td>\n",
       "      <td>No</td>\n",
       "      <td>4583</td>\n",
       "      <td>1508.0</td>\n",
       "      <td>128.0</td>\n",
       "      <td>360.0</td>\n",
       "      <td>1.0</td>\n",
       "      <td>Rural</td>\n",
       "      <td>N</td>\n",
       "    </tr>\n",
       "    <tr>\n",
       "      <th>2</th>\n",
       "      <td>LP001005</td>\n",
       "      <td>Male</td>\n",
       "      <td>Yes</td>\n",
       "      <td>0.0</td>\n",
       "      <td>Graduate</td>\n",
       "      <td>Yes</td>\n",
       "      <td>3000</td>\n",
       "      <td>0.0</td>\n",
       "      <td>66.0</td>\n",
       "      <td>360.0</td>\n",
       "      <td>1.0</td>\n",
       "      <td>Urban</td>\n",
       "      <td>Y</td>\n",
       "    </tr>\n",
       "    <tr>\n",
       "      <th>3</th>\n",
       "      <td>LP001006</td>\n",
       "      <td>Male</td>\n",
       "      <td>Yes</td>\n",
       "      <td>0.0</td>\n",
       "      <td>Not Graduate</td>\n",
       "      <td>No</td>\n",
       "      <td>2583</td>\n",
       "      <td>2358.0</td>\n",
       "      <td>120.0</td>\n",
       "      <td>360.0</td>\n",
       "      <td>1.0</td>\n",
       "      <td>Urban</td>\n",
       "      <td>Y</td>\n",
       "    </tr>\n",
       "    <tr>\n",
       "      <th>4</th>\n",
       "      <td>LP001008</td>\n",
       "      <td>Male</td>\n",
       "      <td>No</td>\n",
       "      <td>0.0</td>\n",
       "      <td>Graduate</td>\n",
       "      <td>No</td>\n",
       "      <td>6000</td>\n",
       "      <td>0.0</td>\n",
       "      <td>141.0</td>\n",
       "      <td>360.0</td>\n",
       "      <td>1.0</td>\n",
       "      <td>Urban</td>\n",
       "      <td>Y</td>\n",
       "    </tr>\n",
       "    <tr>\n",
       "      <th>...</th>\n",
       "      <td>...</td>\n",
       "      <td>...</td>\n",
       "      <td>...</td>\n",
       "      <td>...</td>\n",
       "      <td>...</td>\n",
       "      <td>...</td>\n",
       "      <td>...</td>\n",
       "      <td>...</td>\n",
       "      <td>...</td>\n",
       "      <td>...</td>\n",
       "      <td>...</td>\n",
       "      <td>...</td>\n",
       "      <td>...</td>\n",
       "    </tr>\n",
       "    <tr>\n",
       "      <th>976</th>\n",
       "      <td>LP002971</td>\n",
       "      <td>Male</td>\n",
       "      <td>Yes</td>\n",
       "      <td>4.0</td>\n",
       "      <td>Not Graduate</td>\n",
       "      <td>Yes</td>\n",
       "      <td>4009</td>\n",
       "      <td>1777.0</td>\n",
       "      <td>113.0</td>\n",
       "      <td>360.0</td>\n",
       "      <td>1.0</td>\n",
       "      <td>Urban</td>\n",
       "      <td>Y</td>\n",
       "    </tr>\n",
       "    <tr>\n",
       "      <th>977</th>\n",
       "      <td>LP002975</td>\n",
       "      <td>Male</td>\n",
       "      <td>Yes</td>\n",
       "      <td>0.0</td>\n",
       "      <td>Graduate</td>\n",
       "      <td>No</td>\n",
       "      <td>4158</td>\n",
       "      <td>709.0</td>\n",
       "      <td>115.0</td>\n",
       "      <td>360.0</td>\n",
       "      <td>1.0</td>\n",
       "      <td>Urban</td>\n",
       "      <td>Y</td>\n",
       "    </tr>\n",
       "    <tr>\n",
       "      <th>978</th>\n",
       "      <td>LP002980</td>\n",
       "      <td>Male</td>\n",
       "      <td>No</td>\n",
       "      <td>0.0</td>\n",
       "      <td>Graduate</td>\n",
       "      <td>No</td>\n",
       "      <td>3250</td>\n",
       "      <td>1993.0</td>\n",
       "      <td>126.0</td>\n",
       "      <td>360.0</td>\n",
       "      <td>NaN</td>\n",
       "      <td>Semiurban</td>\n",
       "      <td>Y</td>\n",
       "    </tr>\n",
       "    <tr>\n",
       "      <th>979</th>\n",
       "      <td>LP002986</td>\n",
       "      <td>Male</td>\n",
       "      <td>Yes</td>\n",
       "      <td>0.0</td>\n",
       "      <td>Graduate</td>\n",
       "      <td>No</td>\n",
       "      <td>5000</td>\n",
       "      <td>2393.0</td>\n",
       "      <td>158.0</td>\n",
       "      <td>360.0</td>\n",
       "      <td>1.0</td>\n",
       "      <td>Rural</td>\n",
       "      <td>N</td>\n",
       "    </tr>\n",
       "    <tr>\n",
       "      <th>980</th>\n",
       "      <td>LP002989</td>\n",
       "      <td>Male</td>\n",
       "      <td>No</td>\n",
       "      <td>0.0</td>\n",
       "      <td>Graduate</td>\n",
       "      <td>Yes</td>\n",
       "      <td>9200</td>\n",
       "      <td>0.0</td>\n",
       "      <td>98.0</td>\n",
       "      <td>180.0</td>\n",
       "      <td>1.0</td>\n",
       "      <td>Rural</td>\n",
       "      <td>Y</td>\n",
       "    </tr>\n",
       "  </tbody>\n",
       "</table>\n",
       "<p>981 rows × 13 columns</p>\n",
       "</div>"
      ],
      "text/plain": [
       "      Loan_ID Gender Married  Dependents     Education Self_Employed  \\\n",
       "0    LP001002   Male      No         0.0      Graduate            No   \n",
       "1    LP001003   Male     Yes         1.0      Graduate            No   \n",
       "2    LP001005   Male     Yes         0.0      Graduate           Yes   \n",
       "3    LP001006   Male     Yes         0.0  Not Graduate            No   \n",
       "4    LP001008   Male      No         0.0      Graduate            No   \n",
       "..        ...    ...     ...         ...           ...           ...   \n",
       "976  LP002971   Male     Yes         4.0  Not Graduate           Yes   \n",
       "977  LP002975   Male     Yes         0.0      Graduate            No   \n",
       "978  LP002980   Male      No         0.0      Graduate            No   \n",
       "979  LP002986   Male     Yes         0.0      Graduate            No   \n",
       "980  LP002989   Male      No         0.0      Graduate           Yes   \n",
       "\n",
       "     ApplicantIncome  CoapplicantIncome  LoanAmount  Loan_Amount_Term  \\\n",
       "0               5849                0.0         NaN             360.0   \n",
       "1               4583             1508.0       128.0             360.0   \n",
       "2               3000                0.0        66.0             360.0   \n",
       "3               2583             2358.0       120.0             360.0   \n",
       "4               6000                0.0       141.0             360.0   \n",
       "..               ...                ...         ...               ...   \n",
       "976             4009             1777.0       113.0             360.0   \n",
       "977             4158              709.0       115.0             360.0   \n",
       "978             3250             1993.0       126.0             360.0   \n",
       "979             5000             2393.0       158.0             360.0   \n",
       "980             9200                0.0        98.0             180.0   \n",
       "\n",
       "     Credit_History Property_Area Loan_Status  \n",
       "0               1.0         Urban           Y  \n",
       "1               1.0         Rural           N  \n",
       "2               1.0         Urban           Y  \n",
       "3               1.0         Urban           Y  \n",
       "4               1.0         Urban           Y  \n",
       "..              ...           ...         ...  \n",
       "976             1.0         Urban           Y  \n",
       "977             1.0         Urban           Y  \n",
       "978             NaN     Semiurban           Y  \n",
       "979             1.0         Rural           N  \n",
       "980             1.0         Rural           Y  \n",
       "\n",
       "[981 rows x 13 columns]"
      ]
     },
     "execution_count": 3,
     "metadata": {},
     "output_type": "execute_result"
    }
   ],
   "source": [
    "os.chdir(\"D:/Imarticus/Supervised Learning/Linear Regression with OLS\\Dataset shared by sir/Feature Selection\")\n",
    "cr=pd.read_csv(\"CreditRisk.csv\")\n",
    "cr # Loan Status is a traget variable"
   ]
  },
  {
   "cell_type": "code",
   "execution_count": 16,
   "id": "76f8e673",
   "metadata": {},
   "outputs": [
    {
     "data": {
      "text/plain": [
       "12"
      ]
     },
     "execution_count": 16,
     "metadata": {},
     "output_type": "execute_result"
    }
   ],
   "source": [
    "len(cr.columns)"
   ]
  },
  {
   "cell_type": "code",
   "execution_count": 4,
   "id": "aa90fd2e",
   "metadata": {},
   "outputs": [],
   "source": [
    "cr = cr.iloc[:,1:13] ## To remove the 1st col Load_id\n",
    "cr=cr.dropna()\n",
    "\n",
    "cr.Gender.replace({\"Male\" :1 , \"Female\":0} ,inplace = True)\n",
    "cr.Married.replace({\"No\" :0 , \"Yes\":1} , inplace = True)\n",
    "cr.Education.replace({\"Graduate\" :1  , \"Not Graduate\":0} , inplace = True)\n",
    "cr.Self_Employed.replace({\"No\":0 , \"Yes\" :1 }, inplace = True)\n",
    "cr.Property_Area.replace({\"Semiurban\" :1 ,\"Urban\": 2 , \"Rural\" :3} , inplace = True)\n",
    "cr.Loan_Status.replace({\"Y\" :1 , \"N\" : 0}, inplace = True)   "
   ]
  },
  {
   "cell_type": "code",
   "execution_count": 5,
   "id": "a106d437",
   "metadata": {},
   "outputs": [],
   "source": [
    "cr_x = cr.iloc[: , 0:11]\n",
    "cr_y = cr.iloc[:, -1]"
   ]
  },
  {
   "cell_type": "code",
   "execution_count": 6,
   "id": "09cfde0a",
   "metadata": {},
   "outputs": [],
   "source": [
    "cr_x1  = cr_x  # just a back up  would be used later on \n"
   ]
  },
  {
   "cell_type": "code",
   "execution_count": 7,
   "id": "c7ba9a1a",
   "metadata": {},
   "outputs": [],
   "source": [
    "cr_x = np.array(cr_x)\n",
    "cr_y = np.array(cr_y)"
   ]
  },
  {
   "cell_type": "code",
   "execution_count": 8,
   "id": "984a319f",
   "metadata": {},
   "outputs": [],
   "source": [
    "from sklearn.ensemble import RandomForestClassifier\n",
    "rf   = RandomForestClassifier()"
   ]
  },
  {
   "cell_type": "code",
   "execution_count": 9,
   "id": "58d4cf53",
   "metadata": {},
   "outputs": [],
   "source": [
    "from boruta import BorutaPy"
   ]
  },
  {
   "cell_type": "code",
   "execution_count": 10,
   "id": "fc6c0326",
   "metadata": {},
   "outputs": [
    {
     "data": {
      "text/plain": [
       "BorutaPy(estimator=RandomForestClassifier(n_estimators=1000,\n",
       "                                          random_state=RandomState(MT19937) at 0x207289AE440),\n",
       "         max_iter=25, random_state=RandomState(MT19937) at 0x207289AE440)"
      ]
     },
     "execution_count": 10,
     "metadata": {},
     "output_type": "execute_result"
    }
   ],
   "source": [
    "boruta_feature_selector= BorutaPy(rf,max_iter=25 )\n",
    "boruta_feature_selector.fit(cr_x,cr_y)"
   ]
  },
  {
   "cell_type": "code",
   "execution_count": 11,
   "id": "71f740a9",
   "metadata": {},
   "outputs": [
    {
     "name": "stdout",
     "output_type": "stream",
     "text": [
      "Iteration: \t1 / 25\n",
      "Confirmed: \t0\n",
      "Tentative: \t11\n",
      "Rejected: \t0\n",
      "Iteration: \t2 / 25\n",
      "Confirmed: \t0\n",
      "Tentative: \t11\n",
      "Rejected: \t0\n",
      "Iteration: \t3 / 25\n",
      "Confirmed: \t0\n",
      "Tentative: \t11\n",
      "Rejected: \t0\n",
      "Iteration: \t4 / 25\n",
      "Confirmed: \t0\n",
      "Tentative: \t11\n",
      "Rejected: \t0\n",
      "Iteration: \t5 / 25\n",
      "Confirmed: \t0\n",
      "Tentative: \t11\n",
      "Rejected: \t0\n",
      "Iteration: \t6 / 25\n",
      "Confirmed: \t0\n",
      "Tentative: \t11\n",
      "Rejected: \t0\n",
      "Iteration: \t7 / 25\n",
      "Confirmed: \t0\n",
      "Tentative: \t11\n",
      "Rejected: \t0\n",
      "Iteration: \t8 / 25\n",
      "Confirmed: \t2\n",
      "Tentative: \t1\n",
      "Rejected: \t8\n",
      "Iteration: \t9 / 25\n",
      "Confirmed: \t2\n",
      "Tentative: \t1\n",
      "Rejected: \t8\n",
      "Iteration: \t10 / 25\n",
      "Confirmed: \t2\n",
      "Tentative: \t1\n",
      "Rejected: \t8\n",
      "Iteration: \t11 / 25\n",
      "Confirmed: \t2\n",
      "Tentative: \t1\n",
      "Rejected: \t8\n",
      "Iteration: \t12 / 25\n",
      "Confirmed: \t3\n",
      "Tentative: \t0\n",
      "Rejected: \t8\n",
      "\n",
      "\n",
      "BorutaPy finished running.\n",
      "\n",
      "Iteration: \t13 / 25\n",
      "Confirmed: \t3\n",
      "Tentative: \t0\n",
      "Rejected: \t8\n"
     ]
    },
    {
     "data": {
      "text/plain": [
       "BorutaPy(estimator=RandomForestClassifier(n_estimators=1000,\n",
       "                                          random_state=RandomState(MT19937) at 0x207289AE440),\n",
       "         max_iter=25, random_state=RandomState(MT19937) at 0x207289AE440,\n",
       "         verbose=2)"
      ]
     },
     "execution_count": 11,
     "metadata": {},
     "output_type": "execute_result"
    }
   ],
   "source": [
    "boruta_feature_selector= BorutaPy(rf,max_iter=25 ,verbose=2)\n",
    "boruta_feature_selector.fit(cr_x,cr_y)"
   ]
  },
  {
   "cell_type": "markdown",
   "id": "97ddb9dc",
   "metadata": {},
   "source": [
    "### With the above code we now that there are total 3 columns which are important but which one?"
   ]
  },
  {
   "cell_type": "code",
   "execution_count": 12,
   "id": "981d26bf",
   "metadata": {},
   "outputs": [
    {
     "data": {
      "text/plain": [
       "array([False, False, False, False, False,  True, False,  True, False,\n",
       "        True, False])"
      ]
     },
     "execution_count": 12,
     "metadata": {},
     "output_type": "execute_result"
    }
   ],
   "source": [
    "boruta_feature_selector.support_ # True define the confirmed part here"
   ]
  },
  {
   "cell_type": "code",
   "execution_count": 17,
   "id": "a24b28b7",
   "metadata": {},
   "outputs": [
    {
     "data": {
      "text/plain": [
       "Index(['Gender', 'Married', 'Dependents', 'Education', 'Self_Employed',\n",
       "       'ApplicantIncome', 'CoapplicantIncome', 'LoanAmount',\n",
       "       'Loan_Amount_Term', 'Credit_History', 'Property_Area'],\n",
       "      dtype='object')"
      ]
     },
     "execution_count": 17,
     "metadata": {},
     "output_type": "execute_result"
    }
   ],
   "source": [
    "cr_x1.columns"
   ]
  },
  {
   "cell_type": "code",
   "execution_count": 14,
   "id": "7454fef2",
   "metadata": {},
   "outputs": [],
   "source": [
    "feature_imp= pd.DataFrame({\"Features\":cr_x1.columns,\"Important\":boruta_feature_selector.support_ })"
   ]
  },
  {
   "cell_type": "code",
   "execution_count": 15,
   "id": "cec5c187",
   "metadata": {},
   "outputs": [
    {
     "data": {
      "text/html": [
       "<div>\n",
       "<style scoped>\n",
       "    .dataframe tbody tr th:only-of-type {\n",
       "        vertical-align: middle;\n",
       "    }\n",
       "\n",
       "    .dataframe tbody tr th {\n",
       "        vertical-align: top;\n",
       "    }\n",
       "\n",
       "    .dataframe thead th {\n",
       "        text-align: right;\n",
       "    }\n",
       "</style>\n",
       "<table border=\"1\" class=\"dataframe\">\n",
       "  <thead>\n",
       "    <tr style=\"text-align: right;\">\n",
       "      <th></th>\n",
       "      <th>Features</th>\n",
       "      <th>Important</th>\n",
       "    </tr>\n",
       "  </thead>\n",
       "  <tbody>\n",
       "    <tr>\n",
       "      <th>5</th>\n",
       "      <td>ApplicantIncome</td>\n",
       "      <td>True</td>\n",
       "    </tr>\n",
       "    <tr>\n",
       "      <th>7</th>\n",
       "      <td>LoanAmount</td>\n",
       "      <td>True</td>\n",
       "    </tr>\n",
       "    <tr>\n",
       "      <th>9</th>\n",
       "      <td>Credit_History</td>\n",
       "      <td>True</td>\n",
       "    </tr>\n",
       "    <tr>\n",
       "      <th>0</th>\n",
       "      <td>Gender</td>\n",
       "      <td>False</td>\n",
       "    </tr>\n",
       "    <tr>\n",
       "      <th>1</th>\n",
       "      <td>Married</td>\n",
       "      <td>False</td>\n",
       "    </tr>\n",
       "    <tr>\n",
       "      <th>2</th>\n",
       "      <td>Dependents</td>\n",
       "      <td>False</td>\n",
       "    </tr>\n",
       "    <tr>\n",
       "      <th>3</th>\n",
       "      <td>Education</td>\n",
       "      <td>False</td>\n",
       "    </tr>\n",
       "    <tr>\n",
       "      <th>4</th>\n",
       "      <td>Self_Employed</td>\n",
       "      <td>False</td>\n",
       "    </tr>\n",
       "    <tr>\n",
       "      <th>6</th>\n",
       "      <td>CoapplicantIncome</td>\n",
       "      <td>False</td>\n",
       "    </tr>\n",
       "    <tr>\n",
       "      <th>8</th>\n",
       "      <td>Loan_Amount_Term</td>\n",
       "      <td>False</td>\n",
       "    </tr>\n",
       "    <tr>\n",
       "      <th>10</th>\n",
       "      <td>Property_Area</td>\n",
       "      <td>False</td>\n",
       "    </tr>\n",
       "  </tbody>\n",
       "</table>\n",
       "</div>"
      ],
      "text/plain": [
       "             Features  Important\n",
       "5     ApplicantIncome       True\n",
       "7          LoanAmount       True\n",
       "9      Credit_History       True\n",
       "0              Gender      False\n",
       "1             Married      False\n",
       "2          Dependents      False\n",
       "3           Education      False\n",
       "4       Self_Employed      False\n",
       "6   CoapplicantIncome      False\n",
       "8    Loan_Amount_Term      False\n",
       "10      Property_Area      False"
      ]
     },
     "execution_count": 15,
     "metadata": {},
     "output_type": "execute_result"
    }
   ],
   "source": [
    "feature_imp.sort_values(\"Important\",ascending=False)"
   ]
  },
  {
   "cell_type": "markdown",
   "id": "5abfc668",
   "metadata": {},
   "source": [
    "<h2><font color='red'>But we cannot find the most important feature from the above method. so, we go to the RFE feature Selection methods</font></h2>"
   ]
  },
  {
   "cell_type": "code",
   "execution_count": null,
   "id": "52242d7b",
   "metadata": {},
   "outputs": [],
   "source": []
  }
 ],
 "metadata": {
  "kernelspec": {
   "display_name": "Python 3 (ipykernel)",
   "language": "python",
   "name": "python3"
  },
  "language_info": {
   "codemirror_mode": {
    "name": "ipython",
    "version": 3
   },
   "file_extension": ".py",
   "mimetype": "text/x-python",
   "name": "python",
   "nbconvert_exporter": "python",
   "pygments_lexer": "ipython3",
   "version": "3.8.8"
  }
 },
 "nbformat": 4,
 "nbformat_minor": 5
}
