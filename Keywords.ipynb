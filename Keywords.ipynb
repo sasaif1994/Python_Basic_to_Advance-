{
 "cells": [
  {
   "cell_type": "markdown",
   "id": "47e24eb4",
   "metadata": {},
   "source": [
    "## Keywords"
   ]
  },
  {
   "cell_type": "code",
   "execution_count": 2,
   "id": "b0f9bf11",
   "metadata": {},
   "outputs": [],
   "source": [
    "import keyword"
   ]
  },
  {
   "cell_type": "code",
   "execution_count": 3,
   "id": "77b70e53",
   "metadata": {},
   "outputs": [
    {
     "name": "stdout",
     "output_type": "stream",
     "text": [
      "for Is a keyword\n",
      "while Is a keyword\n",
      "tanisha Not a Keyword\n",
      "break Is a keyword\n",
      "sky Not a Keyword\n",
      "elif Is a keyword\n",
      "assert Is a keyword\n",
      "pulkit Not a Keyword\n",
      "lambda Is a keyword\n",
      "else Is a keyword\n",
      "sakshar Not a Keyword\n"
     ]
    }
   ],
   "source": [
    "keys = [\"for\", \"while\", \"tanisha\", \"break\", \"sky\",\n",
    "\"elif\", \"assert\", \"pulkit\", \"lambda\", \"else\", \"sakshar\"]\n",
    "for i in range(len(keys)):\n",
    "    if keyword.iskeyword(keys[i]):\n",
    "        print(keys[i],\"Is a keyword\")\n",
    "    else:\n",
    "        print(keys[i],\"Not a Keyword\")"
   ]
  },
  {
   "cell_type": "markdown",
   "id": "716ac6ea",
   "metadata": {},
   "source": [
    "### To prints all the 33 python keywords."
   ]
  },
  {
   "cell_type": "code",
   "execution_count": 8,
   "id": "9dc2c95b",
   "metadata": {},
   "outputs": [
    {
     "name": "stdout",
     "output_type": "stream",
     "text": [
      "List of  all keyword: \n",
      "['False', 'None', 'True', '__peg_parser__', 'and', 'as', 'assert', 'async', 'await', 'break', 'class', 'continue', 'def', 'del', 'elif', 'else', 'except', 'finally', 'for', 'from', 'global', 'if', 'import', 'in', 'is', 'lambda', 'nonlocal', 'not', 'or', 'pass', 'raise', 'return', 'try', 'while', 'with', 'yield']\n"
     ]
    }
   ],
   "source": [
    "print(\"List of all keyword: \" )\n",
    "print(keyword.kwlist)"
   ]
  },
  {
   "cell_type": "markdown",
   "id": "14099853",
   "metadata": {},
   "source": [
    "### Example: True, False, and None Keyword"
   ]
  },
  {
   "cell_type": "code",
   "execution_count": 18,
   "id": "a5481826",
   "metadata": {},
   "outputs": [
    {
     "name": "stdout",
     "output_type": "stream",
     "text": [
      "False\n",
      "True\n",
      "True\n",
      "3\n",
      "0\n",
      "False\n",
      "False\n"
     ]
    }
   ],
   "source": [
    "print(True==0)\n",
    "print(False==0)\n",
    "print(True==1)\n",
    "\n",
    "print(True+True+True)\n",
    "print(False+False+False)\n",
    "\n",
    "print(None==0)\n",
    "print(None==1)"
   ]
  },
  {
   "cell_type": "markdown",
   "id": "e62a2c0f",
   "metadata": {},
   "source": [
    "### Example: and, or, not, is and in keyword"
   ]
  },
  {
   "cell_type": "code",
   "execution_count": 21,
   "id": "330b1aa8",
   "metadata": {},
   "outputs": [
    {
     "name": "stdout",
     "output_type": "stream",
     "text": [
      "True\n",
      "True\n"
     ]
    }
   ],
   "source": [
    "print(True or False)\n",
    "print(False or True)"
   ]
  },
  {
   "cell_type": "code",
   "execution_count": 23,
   "id": "81482583",
   "metadata": {},
   "outputs": [
    {
     "name": "stdout",
     "output_type": "stream",
     "text": [
      "False\n"
     ]
    }
   ],
   "source": [
    "print(True and False)"
   ]
  },
  {
   "cell_type": "code",
   "execution_count": 24,
   "id": "e762075c",
   "metadata": {},
   "outputs": [
    {
     "name": "stdout",
     "output_type": "stream",
     "text": [
      "False\n"
     ]
    }
   ],
   "source": [
    "print(not True)"
   ]
  },
  {
   "cell_type": "markdown",
   "id": "76debf0f",
   "metadata": {},
   "source": [
    "<font color=blue>**Diffrence in (if) and (for) while fecthing values from string**"
   ]
  },
  {
   "cell_type": "code",
   "execution_count": 27,
   "id": "f6ec680f",
   "metadata": {},
   "outputs": [
    {
     "name": "stdout",
     "output_type": "stream",
     "text": [
      "h is present\n"
     ]
    }
   ],
   "source": [
    "if 'h' in 'hello':\n",
    "    print(\"h is present\")\n",
    "else:\n",
    "    print(\"h is not present\")"
   ]
  },
  {
   "cell_type": "code",
   "execution_count": 35,
   "id": "10ba672a",
   "metadata": {},
   "outputs": [
    {
     "name": "stdout",
     "output_type": "stream",
     "text": [
      "h e l l o   w o r l d "
     ]
    }
   ],
   "source": [
    "for i in 'hello world':\n",
    "    print(i,end=\" \")\n",
    "    \n",
    "#print(\"\\r\")"
   ]
  },
  {
   "cell_type": "markdown",
   "id": "1ce0e36a",
   "metadata": {},
   "source": [
    "### Example: For, while, break, continue keyword"
   ]
  },
  {
   "cell_type": "markdown",
   "id": "0f863221",
   "metadata": {},
   "source": [
    "#### <font color=blue>Iteration Keywords – for, while, break, continue\n",
    "* **for:** This keyword is used to control flow and for looping.\n",
    "* **while:** Has a similar working like “for”, used to control flow and for looping.\n",
    "* **break:** “break” is used to control the flow of the loop. The statement is used to break out of the loop and passes the control to the statement following immediately after loop.\n",
    "* **continue:** “continue” is also used to control the flow of code. The keyword skips the current iteration of the loop but does not end the loop."
   ]
  },
  {
   "cell_type": "code",
   "execution_count": 56,
   "id": "7148ab0d",
   "metadata": {},
   "outputs": [
    {
     "name": "stdout",
     "output_type": "stream",
     "text": [
      "0 1 2 3 4 5 6 7 8 "
     ]
    }
   ],
   "source": [
    "for i in range(10):\n",
    "    print(i,end=\" \")\n",
    "    if i==8:\n",
    "        break\n",
    "#print()     "
   ]
  },
  {
   "cell_type": "code",
   "execution_count": 52,
   "id": "c0f230d6",
   "metadata": {},
   "outputs": [
    {
     "name": "stdout",
     "output_type": "stream",
     "text": [
      "012345789"
     ]
    }
   ],
   "source": [
    "i=0\n",
    "while i<10:\n",
    "    if i==6:\n",
    "        i+=1\n",
    "        continue\n",
    "    else:\n",
    "        print(i,end=\"\")\n",
    "    i+=1"
   ]
  },
  {
   "cell_type": "markdown",
   "id": "9c42ec63",
   "metadata": {},
   "source": [
    "### Example: if, else, and elif keyword"
   ]
  },
  {
   "cell_type": "markdown",
   "id": "5e426641",
   "metadata": {},
   "source": [
    "#### <font color=blue>Conditional keywords – if, else, elif\n",
    "    \n",
    "* **if :** It is a control statement for decision making. Truth expression forces control to go in “if” statement block.\n",
    "* **else :** It is a control statement for decision making. False expression forces control to go in “else” statement block.\n",
    "* **elif :** It is a control statement for decision making. It is short for “else if“"
   ]
  },
  {
   "cell_type": "code",
   "execution_count": 62,
   "id": "11282cc3",
   "metadata": {},
   "outputs": [
    {
     "name": "stdout",
     "output_type": "stream",
     "text": [
      "Put any Value :25\n",
      "i is greater than 20\n"
     ]
    }
   ],
   "source": [
    "i=int(input(\"Put any Value :\"))\n",
    "if i<10:\n",
    "    print(\"i is less than 10\")\n",
    "elif i>10 and i<=20:\n",
    "    print(\"i is in between 10 and 20\")\n",
    "else:\n",
    "    print(\"i is greater than 20\")"
   ]
  },
  {
   "cell_type": "markdown",
   "id": "fcffabd8",
   "metadata": {},
   "source": [
    "### Example: def keyword\n",
    "#### def keyword is used to declare user defined functions.\n",
    "\n"
   ]
  },
  {
   "cell_type": "code",
   "execution_count": 65,
   "id": "55fdac3a",
   "metadata": {},
   "outputs": [
    {
     "data": {
      "text/plain": [
       "11"
      ]
     },
     "execution_count": 65,
     "metadata": {},
     "output_type": "execute_result"
    }
   ],
   "source": [
    "def fun(i):\n",
    "    i+=1\n",
    "    return i\n",
    "fun(10)"
   ]
  },
  {
   "cell_type": "code",
   "execution_count": 66,
   "id": "6e413b1b",
   "metadata": {},
   "outputs": [],
   "source": [
    "def fun1():\n",
    "    print(\"This is def function\")"
   ]
  },
  {
   "cell_type": "code",
   "execution_count": 68,
   "id": "e05d57c4",
   "metadata": {},
   "outputs": [
    {
     "name": "stdout",
     "output_type": "stream",
     "text": [
      "This is def function\n"
     ]
    }
   ],
   "source": [
    "fun1()"
   ]
  },
  {
   "cell_type": "markdown",
   "id": "67f37784",
   "metadata": {},
   "source": [
    "### Example: Return and Yield Keyword"
   ]
  },
  {
   "cell_type": "markdown",
   "id": "d6b5ae8f",
   "metadata": {},
   "source": [
    "#### <font color=blue>Return Keywords – Return, Yield\n",
    "* **return :** This keyword is used to return from the function.\n",
    "* **yield :** This keyword is used like return statement but is used to return a generator."
   ]
  },
  {
   "cell_type": "code",
   "execution_count": 72,
   "id": "8dd20e3b",
   "metadata": {},
   "outputs": [
    {
     "name": "stdout",
     "output_type": "stream",
     "text": [
      "45\n"
     ]
    }
   ],
   "source": [
    "def fun2():\n",
    "    s=0\n",
    "    for i in range(10):\n",
    "        s+=i\n",
    "    return s\n",
    "print(fun2())"
   ]
  },
  {
   "cell_type": "code",
   "execution_count": 86,
   "id": "2db6936c",
   "metadata": {},
   "outputs": [],
   "source": [
    "def fun3():\n",
    "    s=0\n",
    "    for i in range(10):\n",
    "        s+=i\n",
    "        yield s "
   ]
  },
  {
   "cell_type": "code",
   "execution_count": 89,
   "id": "043561c0",
   "metadata": {},
   "outputs": [
    {
     "name": "stdout",
     "output_type": "stream",
     "text": [
      "<generator object fun3 at 0x000001DC1B1C5430>\n"
     ]
    }
   ],
   "source": [
    "print(fun3())"
   ]
  },
  {
   "cell_type": "code",
   "execution_count": 88,
   "id": "fc7fd3c6",
   "metadata": {},
   "outputs": [
    {
     "name": "stdout",
     "output_type": "stream",
     "text": [
      "0\n",
      "1\n",
      "3\n",
      "6\n",
      "10\n",
      "15\n",
      "21\n",
      "28\n",
      "36\n",
      "45\n"
     ]
    }
   ],
   "source": [
    "for i in fun3():\n",
    "    print(i)"
   ]
  },
  {
   "cell_type": "markdown",
   "id": "69aca3e2",
   "metadata": {},
   "source": [
    "### Example: Class Keyword"
   ]
  },
  {
   "cell_type": "markdown",
   "id": "a78575d6",
   "metadata": {},
   "source": [
    "#### class keyword is used to declare user defined classes."
   ]
  },
  {
   "cell_type": "code",
   "execution_count": 91,
   "id": "aa620d73",
   "metadata": {},
   "outputs": [],
   "source": [
    "class dog:\n",
    "    att1='mammels'\n",
    "    att2='dog'\n",
    "    \n",
    "    def fun(self):\n",
    "        print(\"I am a \",self.att1)\n",
    "        print(\"I an a \",self.att2)\n",
    "        \n",
    "x=dog()"
   ]
  },
  {
   "cell_type": "code",
   "execution_count": 94,
   "id": "8e5a3b1b",
   "metadata": {},
   "outputs": [
    {
     "name": "stdout",
     "output_type": "stream",
     "text": [
      "dog\n"
     ]
    }
   ],
   "source": [
    "print(x.att2)"
   ]
  },
  {
   "cell_type": "code",
   "execution_count": 93,
   "id": "96dce1ab",
   "metadata": {},
   "outputs": [
    {
     "name": "stdout",
     "output_type": "stream",
     "text": [
      "I am a  mammels\n",
      "I an a  dog\n"
     ]
    }
   ],
   "source": [
    "x.fun()"
   ]
  },
  {
   "cell_type": "markdown",
   "id": "60b7141a",
   "metadata": {},
   "source": [
    "### Example: With Keyword"
   ]
  },
  {
   "cell_type": "markdown",
   "id": "fab28f18",
   "metadata": {},
   "source": [
    "**with** keyword is used to wrap the execution of block of code within methods defined by context manager. This keyword is not used much in day to day programming."
   ]
  },
  {
   "cell_type": "code",
   "execution_count": 95,
   "id": "21c6e39f",
   "metadata": {},
   "outputs": [],
   "source": [
    "with open('file path','w') as file:\n",
    "    file.write(\"Hello My name is saif\")"
   ]
  },
  {
   "cell_type": "code",
   "execution_count": null,
   "id": "47dad832",
   "metadata": {},
   "outputs": [],
   "source": []
  },
  {
   "cell_type": "markdown",
   "id": "0998a2f4",
   "metadata": {},
   "source": [
    "### Example: as Keyword"
   ]
  },
  {
   "cell_type": "markdown",
   "id": "ac3ea059",
   "metadata": {},
   "source": [
    "**as** keyword is used to create the alias for the module imported. i.e giving a new name to the imported module. E.g import math as mymath."
   ]
  },
  {
   "cell_type": "code",
   "execution_count": 96,
   "id": "28dbd65e",
   "metadata": {},
   "outputs": [],
   "source": [
    "import numpy as np"
   ]
  },
  {
   "cell_type": "markdown",
   "id": "ee013d1d",
   "metadata": {},
   "source": [
    "### Example: Pass Keyword"
   ]
  },
  {
   "cell_type": "markdown",
   "id": "73c51b43",
   "metadata": {},
   "source": [
    "**pass** is the null statement in python. Nothing happens when this is encountered. This is used to prevent indentation errors and used as a placeholder."
   ]
  },
  {
   "cell_type": "code",
   "execution_count": 97,
   "id": "7f9164da",
   "metadata": {},
   "outputs": [],
   "source": [
    "n=10\n",
    "for i in range(n):\n",
    "    pass"
   ]
  },
  {
   "cell_type": "code",
   "execution_count": null,
   "id": "e630b652",
   "metadata": {},
   "outputs": [],
   "source": []
  },
  {
   "cell_type": "markdown",
   "id": "763594d4",
   "metadata": {},
   "source": [
    "### Example: try, except, raise, finally, and assert Keywords"
   ]
  },
  {
   "cell_type": "markdown",
   "id": "de157290",
   "metadata": {},
   "source": [
    "#### <font color=blue>Exception Handling Keywords – try, except, raise, finally, and assert\n",
    "* **try :** This keyword is used for exception handling, used to catch the errors in the code using the keyword except. Code in “try” block is checked, if there is any type of error, except block is executed.\n",
    "* **except :** As explained above, this works together with “try” to catch exceptions.\n",
    "* **finally :** No matter what is result of the “try” block, block termed “finally” is always executed.\n",
    "* **raise:** We can raise an exception explicitly with the raise keyword\n",
    "* **assert:** This function is used for debugging purposes. Usually used to check the correctness of code. If a statement is evaluated to be true, nothing happens, but when it is false, “AssertionError” is raised. One can also print a message with the error, separated by a comma."
   ]
  },
  {
   "cell_type": "code",
   "execution_count": 105,
   "id": "5579b9a0",
   "metadata": {},
   "outputs": [
    {
     "name": "stdout",
     "output_type": "stream",
     "text": [
      "Can't divided by Zero\n",
      "This is always excuted at any cost\n"
     ]
    },
    {
     "ename": "AssertionError",
     "evalue": "Divided by zero error",
     "output_type": "error",
     "traceback": [
      "\u001b[1;31m---------------------------------------------------------------------------\u001b[0m",
      "\u001b[1;31mAssertionError\u001b[0m                            Traceback (most recent call last)",
      "\u001b[1;32m~\\AppData\\Local\\Temp/ipykernel_10620/2598459426.py\u001b[0m in \u001b[0;36m<module>\u001b[1;34m\u001b[0m\n\u001b[0;32m      9\u001b[0m     \u001b[0mprint\u001b[0m\u001b[1;33m(\u001b[0m\u001b[1;34m\"This is always excuted at any cost\"\u001b[0m\u001b[1;33m)\u001b[0m\u001b[1;33m\u001b[0m\u001b[1;33m\u001b[0m\u001b[0m\n\u001b[0;32m     10\u001b[0m \u001b[1;33m\u001b[0m\u001b[0m\n\u001b[1;32m---> 11\u001b[1;33m \u001b[1;32massert\u001b[0m \u001b[0mb\u001b[0m\u001b[1;33m!=\u001b[0m\u001b[1;36m0\u001b[0m \u001b[1;33m,\u001b[0m\u001b[1;34m\"Divided by zero error\"\u001b[0m\u001b[1;33m\u001b[0m\u001b[1;33m\u001b[0m\u001b[0m\n\u001b[0m\u001b[0;32m     12\u001b[0m \u001b[0mprint\u001b[0m\u001b[1;33m(\u001b[0m\u001b[0ma\u001b[0m\u001b[1;33m/\u001b[0m\u001b[0mb\u001b[0m\u001b[1;33m)\u001b[0m\u001b[1;33m\u001b[0m\u001b[1;33m\u001b[0m\u001b[0m\n",
      "\u001b[1;31mAssertionError\u001b[0m: Divided by zero error"
     ]
    }
   ],
   "source": [
    "a=4\n",
    "b=0\n",
    "try :\n",
    "    x =a/b\n",
    "    print(k)\n",
    "except:\n",
    "    print(\"Can't divided by Zero\")\n",
    "finally:\n",
    "    print(\"This is always excuted at any cost\")\n",
    "\n",
    "assert b!=0 ,\"Divided by zero error\"\n",
    "print(a/b)"
   ]
  },
  {
   "cell_type": "code",
   "execution_count": null,
   "id": "49b89db9",
   "metadata": {},
   "outputs": [],
   "source": []
  },
  {
   "cell_type": "markdown",
   "id": "da428706",
   "metadata": {},
   "source": [
    "### Example: del Keyword"
   ]
  },
  {
   "cell_type": "code",
   "execution_count": 106,
   "id": "1e0ec770",
   "metadata": {},
   "outputs": [
    {
     "name": "stdout",
     "output_type": "stream",
     "text": [
      "20\n"
     ]
    }
   ],
   "source": [
    "x=20\n",
    "print(x)"
   ]
  },
  {
   "cell_type": "code",
   "execution_count": 107,
   "id": "0f7ed3ad",
   "metadata": {},
   "outputs": [],
   "source": [
    "del x"
   ]
  },
  {
   "cell_type": "code",
   "execution_count": 108,
   "id": "268cd80f",
   "metadata": {},
   "outputs": [
    {
     "ename": "NameError",
     "evalue": "name 'x' is not defined",
     "output_type": "error",
     "traceback": [
      "\u001b[1;31m---------------------------------------------------------------------------\u001b[0m",
      "\u001b[1;31mNameError\u001b[0m                                 Traceback (most recent call last)",
      "\u001b[1;32m~\\AppData\\Local\\Temp/ipykernel_10620/1353120783.py\u001b[0m in \u001b[0;36m<module>\u001b[1;34m\u001b[0m\n\u001b[1;32m----> 1\u001b[1;33m \u001b[0mprint\u001b[0m\u001b[1;33m(\u001b[0m\u001b[0mx\u001b[0m\u001b[1;33m)\u001b[0m\u001b[1;33m\u001b[0m\u001b[1;33m\u001b[0m\u001b[0m\n\u001b[0m",
      "\u001b[1;31mNameError\u001b[0m: name 'x' is not defined"
     ]
    }
   ],
   "source": [
    "print(x)"
   ]
  },
  {
   "cell_type": "markdown",
   "id": "7ac29f34",
   "metadata": {},
   "source": [
    "### Example: Global and nonlocal keywords"
   ]
  },
  {
   "cell_type": "markdown",
   "id": "5150121d",
   "metadata": {},
   "source": [
    "#### <font color=blue>Global, Nonlocal\n",
    "* **global:** This keyword is used to define a variable inside the function to be of a global scope.\n",
    "* **non-local :** This keyword works similar to the global, but rather than global, this keyword declares a variable to point to variable of outside enclosing function, in case of nested functions"
   ]
  },
  {
   "cell_type": "code",
   "execution_count": 109,
   "id": "5acd4411",
   "metadata": {},
   "outputs": [
    {
     "data": {
      "text/plain": [
       "45"
      ]
     },
     "execution_count": 109,
     "metadata": {},
     "output_type": "execute_result"
    }
   ],
   "source": [
    "# global variable\n",
    "a=20\n",
    "b=25\n",
    "def add():\n",
    "    c=a+b\n",
    "    return c\n",
    "add()"
   ]
  },
  {
   "cell_type": "code",
   "execution_count": 126,
   "id": "706a2aba",
   "metadata": {},
   "outputs": [
    {
     "name": "stdout",
     "output_type": "stream",
     "text": [
      "30\n",
      "30\n"
     ]
    }
   ],
   "source": [
    "# nonlocal keyword\n",
    "def fun():\n",
    "    var=20\n",
    "    def gun():\n",
    "        nonlocal var\n",
    "        var=var+10\n",
    "        print(var)\n",
    "    gun()\n",
    "    print(var)\n",
    "fun()"
   ]
  },
  {
   "cell_type": "code",
   "execution_count": 127,
   "id": "c871bb48",
   "metadata": {},
   "outputs": [
    {
     "name": "stdout",
     "output_type": "stream",
     "text": [
      "10\n",
      "5\n",
      "5\n",
      "Value of a using nonlocal is : 10\n",
      "Value of a without using nonlocal is : 5\n"
     ]
    }
   ],
   "source": [
    "# Python code to demonstrate working of\n",
    "# global and non local\n",
    "\n",
    "#initializing variable globally\n",
    "a = 10\n",
    "\n",
    "# used to read the variable\n",
    "def read():\n",
    "\tprint (a)\n",
    "\n",
    "# changing the value of globally defined variable\n",
    "def mod1():\n",
    "\tglobal a\n",
    "\ta = 5\n",
    "\n",
    "# changing value of only local variable\n",
    "def mod2():\n",
    "\ta = 15\n",
    "\n",
    "# reading initial value of a\n",
    "# prints 10\n",
    "read()\n",
    "\n",
    "# calling mod 1 function to modify value\n",
    "# modifies value of global a to 5\n",
    "mod1()\n",
    "\n",
    "# reading modified value\n",
    "# prints 5\n",
    "read()\n",
    "\n",
    "# calling mod 2 function to modify value\n",
    "# modifies value of local a to 15, doesn't effect global value\n",
    "mod2()\n",
    "\n",
    "# reading modified value\n",
    "# again prints 5\n",
    "read()\n",
    "\n",
    "# demonstrating non local\n",
    "# inner loop changing the value of outer a\n",
    "# prints 10\n",
    "print (\"Value of a using nonlocal is : \",end=\"\")\n",
    "def outer():\n",
    "\ta = 5\n",
    "\tdef inner():\n",
    "\t\tnonlocal a\n",
    "\t\ta = 10\n",
    "\tinner()\n",
    "\tprint (a)\n",
    "\n",
    "outer()\n",
    "\n",
    "# demonstrating without non local\n",
    "# inner loop not changing the value of outer a\n",
    "# prints 5\n",
    "print (\"Value of a without using nonlocal is : \",end=\"\")\n",
    "def outer():\n",
    "\ta = 5\n",
    "\tdef inner():\n",
    "\t\ta = 10\n",
    "\tinner()\n",
    "\tprint (a)\n",
    "\n",
    "outer()\n"
   ]
  },
  {
   "cell_type": "code",
   "execution_count": null,
   "id": "9f80d2a2",
   "metadata": {},
   "outputs": [],
   "source": []
  },
  {
   "cell_type": "code",
   "execution_count": null,
   "id": "211d02c1",
   "metadata": {},
   "outputs": [],
   "source": []
  }
 ],
 "metadata": {
  "kernelspec": {
   "display_name": "Python 3 (ipykernel)",
   "language": "python",
   "name": "python3"
  },
  "language_info": {
   "codemirror_mode": {
    "name": "ipython",
    "version": 3
   },
   "file_extension": ".py",
   "mimetype": "text/x-python",
   "name": "python",
   "nbconvert_exporter": "python",
   "pygments_lexer": "ipython3",
   "version": "3.9.7"
  }
 },
 "nbformat": 4,
 "nbformat_minor": 5
}
