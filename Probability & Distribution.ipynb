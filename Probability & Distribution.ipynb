{
 "cells": [
  {
   "cell_type": "markdown",
   "metadata": {},
   "source": [
    "\n",
    "We know the probability o drawing an ace on the first draw.\n",
    "determine the probability of drawing an ace on the second draw,if the first card drawn was either a king or an Ace.\n"
   ]
  },
  {
   "cell_type": "code",
   "execution_count": 14,
   "metadata": {},
   "outputs": [],
   "source": [
    "# sample space\n",
    "# there are 52 cards in a deck\n",
    "cards =52\n",
    "# one card is drawn\n",
    "cards_drawn=1\n",
    "# after drwaing one card from the deck\n",
    "# we left with 52-1=51 cards\n",
    "cards1=cards-cards_drawn\n",
    "\n",
    "#Create a function that returns the event probability\n",
    "#it takes event_outcomes and the sample_spaces the inputs\n",
    "def event_probability(event_outcomes,sample_space):\n",
    "    probability=(event_outcomes/sample_space)*100\n",
    "    return round(probability,1)"
   ]
  },
  {
   "cell_type": "markdown",
   "metadata": {},
   "source": [
    "Determine the probability of drawing an Ace after drawing a king on the first draw. # important "
   ]
  },
  {
   "cell_type": "code",
   "execution_count": 15,
   "metadata": {},
   "outputs": [
    {
     "name": "stdout",
     "output_type": "stream",
     "text": [
      "There is a 7.8% chances of drawing an ace after drawing a king on the first draw\n"
     ]
    }
   ],
   "source": [
    "# There are 4 aces in a deck of 52 cards\n",
    "aces=4\n",
    "# Execute the function to find the event probability\n",
    "ace_probability1=event_probability(aces,cards1)\n",
    "\n",
    "# Print the probability\n",
    "print(\"There is a {}% chances of drawing an ace after drawing a king on the first draw\".format(ace_probability1))"
   ]
  },
  {
   "cell_type": "markdown",
   "metadata": {},
   "source": [
    "Determine the probability of drawing an Ace after drawing an Ace on the first draw."
   ]
  },
  {
   "cell_type": "code",
   "execution_count": 9,
   "metadata": {},
   "outputs": [
    {
     "name": "stdout",
     "output_type": "stream",
     "text": [
      "there is a 5.9% chance of drawing an ace after drawing an ace on the first draw\n"
     ]
    }
   ],
   "source": [
    "# an ace card is drawn\n",
    "aces_drawn=1\n",
    "\n",
    "# after drawing an ace card, there are total 52-1=51 cards\n",
    "aces=aces-aces_drawn\n",
    "\n",
    "#execute the function to find the event probability\n",
    "ace_probability2=event_probability(aces,cards)\n",
    "\n",
    "#print the probability\n",
    "print(\"there is a {}% chance of drawing an ace after drawing an ace on the first draw\".format(ace_probability2))"
   ]
  },
  {
   "cell_type": "markdown",
   "metadata": {},
   "source": [
    "Calculate the probability of drawing an ace, a king or a queen."
   ]
  },
  {
   "cell_type": "code",
   "execution_count": 11,
   "metadata": {},
   "outputs": [
    {
     "name": "stdout",
     "output_type": "stream",
     "text": [
      "There is a 23.4% chance of drawing an ace, a king or a queen\n"
     ]
    }
   ],
   "source": [
    "# there are 4 aces, 4 kings and 4 queens in a deck of 52 cards\n",
    "aces=4\n",
    "kings=4\n",
    "queens=4\n",
    "\n",
    "# Execute the function to find the event probability\n",
    "ace_king_or_queen=event_probability(aces,cards)+event_probability(kings,cards)+event_probability(queens,cards)\n",
    "\n",
    "#print the probability\n",
    "print(\"There is a {}% chance of drawing an ace, a king or a queen\".format(ace_king_or_queen))"
   ]
  },
  {
   "cell_type": "markdown",
   "metadata": {},
   "source": [
    "Calculate the probability of the following non mutually exclusive events;\n",
    "1) Drawing a heart or an ace"
   ]
  },
  {
   "cell_type": "code",
   "execution_count": 17,
   "metadata": {},
   "outputs": [
    {
     "name": "stdout",
     "output_type": "stream",
     "text": [
      "There is roughly 30.8% chance of drawing a heart or an ace\n"
     ]
    }
   ],
   "source": [
    "# Sample Space\n",
    "# There are 52 cards in a deck\n",
    "cards=52\n",
    "\n",
    "# There are 13 hearts and 4 aces in a deck of 52 cards\n",
    "hearts=13\n",
    "aces=4\n",
    "\n",
    "# Among 4 aces,there is 1 ace of hearts\n",
    "ace_of_hearts=1\n",
    "\n",
    "# Execute the function to find the event probability\n",
    "heart_or_ace=event_probability(hearts,cards)+event_probability(aces,cards)-event_probability(ace_of_hearts,cards)\n",
    "\n",
    "# print the probability\n",
    "print(\"There is roughly {}% chance of drawing a heart or an ace\".format(round(heart_or_ace,1)))"
   ]
  },
  {
   "cell_type": "markdown",
   "metadata": {},
   "source": [
    "2) Calculate the probability of drawing a red card or drwaing a face card."
   ]
  },
  {
   "cell_type": "code",
   "execution_count": 18,
   "metadata": {},
   "outputs": [
    {
     "name": "stdout",
     "output_type": "stream",
     "text": [
      "There is roughly 61.6% chance of drawing a red card or drawing a face card\n"
     ]
    }
   ],
   "source": [
    "# There are 26 red cards ,12 face cards and 4 red face cards in a deck of 52 cards\n",
    "red_cards=26\n",
    "face_cards=12\n",
    "red_face_cards=6\n",
    "\n",
    "# \\ is for a writing a code in a new line\n",
    "# Execute the function to find the event probability\n",
    "red_or_face_cards=event_probability(red_cards,cards)+event_probability(face_cards,cards)-event_probability(red_face_cards,cards)\n",
    "\n",
    "# Print the probability\n",
    "print(\"There is roughly {}% chance of drawing a red card or drawing a face card\".format(round(red_or_face_cards,1)))"
   ]
  },
  {
   "cell_type": "code",
   "execution_count": null,
   "metadata": {},
   "outputs": [],
   "source": []
  }
 ],
 "metadata": {
  "kernelspec": {
   "display_name": "Python 3",
   "language": "python",
   "name": "python3"
  },
  "language_info": {
   "codemirror_mode": {
    "name": "ipython",
    "version": 3
   },
   "file_extension": ".py",
   "mimetype": "text/x-python",
   "name": "python",
   "nbconvert_exporter": "python",
   "pygments_lexer": "ipython3",
   "version": "3.8.5"
  }
 },
 "nbformat": 4,
 "nbformat_minor": 4
}
