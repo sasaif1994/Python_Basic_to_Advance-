{
 "cells": [
  {
   "cell_type": "markdown",
   "id": "c908291e",
   "metadata": {},
   "source": [
    "# <center>Python Functions"
   ]
  },
  {
   "cell_type": "code",
   "execution_count": 7,
   "id": "c1f31a17",
   "metadata": {},
   "outputs": [
    {
     "name": "stdout",
     "output_type": "stream",
     "text": [
      "Enter any number: 8\n",
      "The Number is Even\n"
     ]
    }
   ],
   "source": [
    "def even_odds(x):\n",
    "    if (x%2 ==0):\n",
    "        print(\"The Number is Even\")\n",
    "    else:\n",
    "        print(\"The Number is Odds\")\n",
    "even_odds(x=int(input(\"Enter any number: \")))"
   ]
  },
  {
   "cell_type": "markdown",
   "id": "0dcc3692",
   "metadata": {},
   "source": [
    "## Variable-length arguments\n",
    "In Python, we can pass a variable number of arguments to a function using special symbols. There are two special symbols:\n",
    "\n",
    "***args (Non-Keyword Arguments)** \n",
    "\n",
    "****kwargs (Keyword Arguments)**"
   ]
  },
  {
   "cell_type": "markdown",
   "id": "4c5f46e2",
   "metadata": {},
   "source": [
    "#### Example 1: Variable length non-keywords argument"
   ]
  },
  {
   "cell_type": "code",
   "execution_count": 12,
   "id": "8cb43f04",
   "metadata": {},
   "outputs": [
    {
     "name": "stdout",
     "output_type": "stream",
     "text": [
      "Hello\n",
      "World\n",
      "None\n"
     ]
    }
   ],
   "source": [
    "def myfun(*args):\n",
    "    for arg in args:\n",
    "        print(arg)\n",
    "myfun(\"Hello\",\"World\")"
   ]
  },
  {
   "cell_type": "code",
   "execution_count": 1,
   "id": "36ee14a6",
   "metadata": {},
   "outputs": [],
   "source": [
    "l=[1,2,3,4]"
   ]
  },
  {
   "cell_type": "code",
   "execution_count": 14,
   "id": "30e2fbc4",
   "metadata": {},
   "outputs": [
    {
     "name": "stdout",
     "output_type": "stream",
     "text": [
      "1\n",
      "2\n",
      "3\n",
      "4\n"
     ]
    }
   ],
   "source": [
    "print(*l, sep=\"\\n\")"
   ]
  },
  {
   "cell_type": "markdown",
   "id": "e2cbe1df",
   "metadata": {},
   "source": [
    "#### Example 2: Variable length keyword arguments"
   ]
  },
  {
   "cell_type": "code",
   "execution_count": 25,
   "id": "e8f1339d",
   "metadata": {},
   "outputs": [
    {
     "name": "stdout",
     "output_type": "stream",
     "text": [
      "x == hello\n",
      "x*hello\n",
      "y == world\n",
      "y*world\n"
     ]
    }
   ],
   "source": [
    "def myfun(**kuu):\n",
    "    for key,value in kuu.items():\n",
    "        print(\"%s == %s\" %(key,value))\n",
    "        \n",
    "        print('%s*%s' %(key,value))\n",
    "\n",
    "myfun(x='hello',y='world')"
   ]
  },
  {
   "cell_type": "markdown",
   "id": "01375f96",
   "metadata": {},
   "source": [
    "## Docstring\n",
    "The first string after the function is called the Document string or Docstring in short. This is used to describe the functionality of the function. The use of docstring in functions is optional but it is considered a good practice.\n",
    "\n",
    "The below syntax can be used to print out the docstring of a function:"
   ]
  },
  {
   "cell_type": "code",
   "execution_count": 28,
   "id": "666a6360",
   "metadata": {},
   "outputs": [
    {
     "name": "stdout",
     "output_type": "stream",
     "text": [
      " Funtion to check if the number is even or odd\n"
     ]
    }
   ],
   "source": [
    "def even_odds(x):\n",
    "    \"\"\" Funtion to check if the number is even or odd\"\"\"\n",
    "    if (x%2 ==0):\n",
    "        print(\"The Number is Even\")\n",
    "    else:\n",
    "        print(\"The Number is Odds\")\n",
    "#even_odds(x=int(input(\"Enter any number: \")))\n",
    "print(even_odds.__doc__)"
   ]
  },
  {
   "cell_type": "markdown",
   "id": "28442fd7",
   "metadata": {},
   "source": [
    "## The return statement"
   ]
  },
  {
   "cell_type": "markdown",
   "id": "036b887e",
   "metadata": {},
   "source": [
    "The function return statement is used to exit from a function and go back to the function caller and return the specified value or data item to the caller."
   ]
  },
  {
   "cell_type": "code",
   "execution_count": 33,
   "id": "5e724107",
   "metadata": {},
   "outputs": [],
   "source": [
    "def square_value(num):\n",
    "    #return num*num\n",
    "    return num*6"
   ]
  },
  {
   "cell_type": "code",
   "execution_count": 34,
   "id": "d2131532",
   "metadata": {},
   "outputs": [
    {
     "data": {
      "text/plain": [
       "12"
      ]
     },
     "execution_count": 34,
     "metadata": {},
     "output_type": "execute_result"
    }
   ],
   "source": [
    "square_value(2)"
   ]
  },
  {
   "cell_type": "code",
   "execution_count": 44,
   "id": "a3c751cb",
   "metadata": {},
   "outputs": [],
   "source": [
    "def myfun(x):\n",
    "    x[0]=20\n",
    "        "
   ]
  },
  {
   "cell_type": "code",
   "execution_count": 45,
   "id": "81a181e5",
   "metadata": {},
   "outputs": [],
   "source": [
    "list1=[10,11,12,13]"
   ]
  },
  {
   "cell_type": "code",
   "execution_count": 47,
   "id": "9ff14080",
   "metadata": {},
   "outputs": [
    {
     "name": "stdout",
     "output_type": "stream",
     "text": [
      "[20, 11, 12, 13]\n"
     ]
    }
   ],
   "source": [
    "myfun(list1)\n",
    "print(list1)"
   ]
  },
  {
   "cell_type": "markdown",
   "id": "1b1ca7ae",
   "metadata": {},
   "source": [
    "## Anonymous functions: \n",
    "In Python,an anonymous function means that a **function is without a name.** As we already know the def keyword is used to define the normal functions and the lambda keyword is used to create anonymous functions."
   ]
  },
  {
   "cell_type": "code",
   "execution_count": 51,
   "id": "24b07f91",
   "metadata": {},
   "outputs": [
    {
     "name": "stdout",
     "output_type": "stream",
     "text": [
      "8\n",
      "64\n"
     ]
    }
   ],
   "source": [
    "def cube(x):\n",
    "    return x*x*x\n",
    "\n",
    "cube_lamda=lambda x:x*x*x\n",
    "print(cube(2))\n",
    "print(cube_lamda(4))"
   ]
  },
  {
   "cell_type": "markdown",
   "id": "5d193028",
   "metadata": {},
   "source": [
    "### Python Function within Functions\n",
    "A function that is defined inside another function is known as the inner function or nested function. Nested functions are able to access variables of the enclosing scope. **Inner functions are used so that they can be protected from everything happening outside the function.**"
   ]
  },
  {
   "cell_type": "code",
   "execution_count": 52,
   "id": "82f6e642",
   "metadata": {},
   "outputs": [
    {
     "name": "stdout",
     "output_type": "stream",
     "text": [
      "I love Myself\n"
     ]
    }
   ],
   "source": [
    "def f1():\n",
    "    s='I love Myself'\n",
    "    \n",
    "    def f2():\n",
    "        print(s)\n",
    "        \n",
    "    f2()\n",
    "    \n",
    "f1()"
   ]
  },
  {
   "cell_type": "code",
   "execution_count": 60,
   "id": "7be914fa",
   "metadata": {},
   "outputs": [
    {
     "data": {
      "text/plain": [
       "8"
      ]
     },
     "execution_count": 60,
     "metadata": {},
     "output_type": "execute_result"
    }
   ],
   "source": [
    "def fun(x):\n",
    "    \n",
    "    y= x*x*x\n",
    "    return y\n",
    "    def f3():\n",
    "        s='I love Myself'\n",
    "        print(s)\n",
    "    f3()\n",
    "fun(2)\n"
   ]
  },
  {
   "cell_type": "code",
   "execution_count": 80,
   "id": "0e6c012b",
   "metadata": {},
   "outputs": [],
   "source": [
    "def factorial(number):\n",
    "...     # Validate input\n",
    "...     if not isinstance(number, int):\n",
    "...         raise TypeError(\"Sorry. 'number' must be an integer.\")\n",
    "...     if number < 0:\n",
    "...         raise ValueError(\"Sorry. 'number' must be zero or positive.\")\n",
    "...     # Calculate the factorial of number\n",
    "...     def inner_factorial(number):\n",
    "...         if number <= 1:\n",
    "...             return 1\n",
    "...         return number * inner_factorial(number - 1)\n",
    "...     return inner_factorial(number)\n",
    "..."
   ]
  },
  {
   "cell_type": "code",
   "execution_count": 81,
   "id": "06e909f4",
   "metadata": {},
   "outputs": [
    {
     "ename": "TypeError",
     "evalue": "Sorry. 'number' must be an integer.",
     "output_type": "error",
     "traceback": [
      "\u001b[1;31m---------------------------------------------------------------------------\u001b[0m",
      "\u001b[1;31mTypeError\u001b[0m                                 Traceback (most recent call last)",
      "\u001b[1;32m~\\AppData\\Local\\Temp/ipykernel_14012/2393902972.py\u001b[0m in \u001b[0;36m<module>\u001b[1;34m\u001b[0m\n\u001b[1;32m----> 1\u001b[1;33m \u001b[0mfactorial\u001b[0m\u001b[1;33m(\u001b[0m\u001b[1;34m'g'\u001b[0m\u001b[1;33m)\u001b[0m\u001b[1;33m\u001b[0m\u001b[1;33m\u001b[0m\u001b[0m\n\u001b[0m",
      "\u001b[1;32m~\\AppData\\Local\\Temp/ipykernel_14012/952849969.py\u001b[0m in \u001b[0;36mfactorial\u001b[1;34m(number)\u001b[0m\n\u001b[0;32m      2\u001b[0m     \u001b[1;31m# Validate input\u001b[0m\u001b[1;33m\u001b[0m\u001b[1;33m\u001b[0m\u001b[0m\n\u001b[0;32m      3\u001b[0m     \u001b[1;32mif\u001b[0m \u001b[1;32mnot\u001b[0m \u001b[0misinstance\u001b[0m\u001b[1;33m(\u001b[0m\u001b[0mnumber\u001b[0m\u001b[1;33m,\u001b[0m \u001b[0mint\u001b[0m\u001b[1;33m)\u001b[0m\u001b[1;33m:\u001b[0m\u001b[1;33m\u001b[0m\u001b[1;33m\u001b[0m\u001b[0m\n\u001b[1;32m----> 4\u001b[1;33m         \u001b[1;32mraise\u001b[0m \u001b[0mTypeError\u001b[0m\u001b[1;33m(\u001b[0m\u001b[1;34m\"Sorry. 'number' must be an integer.\"\u001b[0m\u001b[1;33m)\u001b[0m\u001b[1;33m\u001b[0m\u001b[1;33m\u001b[0m\u001b[0m\n\u001b[0m\u001b[0;32m      5\u001b[0m     \u001b[1;32mif\u001b[0m \u001b[0mnumber\u001b[0m \u001b[1;33m<\u001b[0m \u001b[1;36m0\u001b[0m\u001b[1;33m:\u001b[0m\u001b[1;33m\u001b[0m\u001b[1;33m\u001b[0m\u001b[0m\n\u001b[0;32m      6\u001b[0m         \u001b[1;32mraise\u001b[0m \u001b[0mValueError\u001b[0m\u001b[1;33m(\u001b[0m\u001b[1;34m\"Sorry. 'number' must be zero or positive.\"\u001b[0m\u001b[1;33m)\u001b[0m\u001b[1;33m\u001b[0m\u001b[1;33m\u001b[0m\u001b[0m\n",
      "\u001b[1;31mTypeError\u001b[0m: Sorry. 'number' must be an integer."
     ]
    }
   ],
   "source": [
    "factorial('g')"
   ]
  },
  {
   "cell_type": "code",
   "execution_count": 82,
   "id": "94baa4b5",
   "metadata": {},
   "outputs": [
    {
     "ename": "ValueError",
     "evalue": "Sorry. 'number' must be zero or positive.",
     "output_type": "error",
     "traceback": [
      "\u001b[1;31m---------------------------------------------------------------------------\u001b[0m",
      "\u001b[1;31mValueError\u001b[0m                                Traceback (most recent call last)",
      "\u001b[1;32m~\\AppData\\Local\\Temp/ipykernel_14012/3591406149.py\u001b[0m in \u001b[0;36m<module>\u001b[1;34m\u001b[0m\n\u001b[1;32m----> 1\u001b[1;33m \u001b[0mfactorial\u001b[0m\u001b[1;33m(\u001b[0m\u001b[1;33m-\u001b[0m\u001b[1;36m5\u001b[0m\u001b[1;33m)\u001b[0m\u001b[1;33m\u001b[0m\u001b[1;33m\u001b[0m\u001b[0m\n\u001b[0m",
      "\u001b[1;32m~\\AppData\\Local\\Temp/ipykernel_14012/952849969.py\u001b[0m in \u001b[0;36mfactorial\u001b[1;34m(number)\u001b[0m\n\u001b[0;32m      4\u001b[0m         \u001b[1;32mraise\u001b[0m \u001b[0mTypeError\u001b[0m\u001b[1;33m(\u001b[0m\u001b[1;34m\"Sorry. 'number' must be an integer.\"\u001b[0m\u001b[1;33m)\u001b[0m\u001b[1;33m\u001b[0m\u001b[1;33m\u001b[0m\u001b[0m\n\u001b[0;32m      5\u001b[0m     \u001b[1;32mif\u001b[0m \u001b[0mnumber\u001b[0m \u001b[1;33m<\u001b[0m \u001b[1;36m0\u001b[0m\u001b[1;33m:\u001b[0m\u001b[1;33m\u001b[0m\u001b[1;33m\u001b[0m\u001b[0m\n\u001b[1;32m----> 6\u001b[1;33m         \u001b[1;32mraise\u001b[0m \u001b[0mValueError\u001b[0m\u001b[1;33m(\u001b[0m\u001b[1;34m\"Sorry. 'number' must be zero or positive.\"\u001b[0m\u001b[1;33m)\u001b[0m\u001b[1;33m\u001b[0m\u001b[1;33m\u001b[0m\u001b[0m\n\u001b[0m\u001b[0;32m      7\u001b[0m     \u001b[1;31m# Calculate the factorial of number\u001b[0m\u001b[1;33m\u001b[0m\u001b[1;33m\u001b[0m\u001b[0m\n\u001b[0;32m      8\u001b[0m     \u001b[1;32mdef\u001b[0m \u001b[0minner_factorial\u001b[0m\u001b[1;33m(\u001b[0m\u001b[0mnumber\u001b[0m\u001b[1;33m)\u001b[0m\u001b[1;33m:\u001b[0m\u001b[1;33m\u001b[0m\u001b[1;33m\u001b[0m\u001b[0m\n",
      "\u001b[1;31mValueError\u001b[0m: Sorry. 'number' must be zero or positive."
     ]
    }
   ],
   "source": [
    "factorial(-5)"
   ]
  },
  {
   "cell_type": "code",
   "execution_count": 83,
   "id": "6c7ba707",
   "metadata": {},
   "outputs": [
    {
     "data": {
      "text/plain": [
       "1"
      ]
     },
     "execution_count": 83,
     "metadata": {},
     "output_type": "execute_result"
    }
   ],
   "source": [
    "factorial(0)"
   ]
  },
  {
   "cell_type": "code",
   "execution_count": 84,
   "id": "86cae447",
   "metadata": {},
   "outputs": [
    {
     "data": {
      "text/plain": [
       "24"
      ]
     },
     "execution_count": 84,
     "metadata": {},
     "output_type": "execute_result"
    }
   ],
   "source": [
    "factorial(4)"
   ]
  },
  {
   "cell_type": "markdown",
   "id": "406dd5ac",
   "metadata": {},
   "source": [
    "### When to use yield instead of return in Python?"
   ]
  },
  {
   "cell_type": "code",
   "execution_count": 3,
   "id": "d266d089",
   "metadata": {},
   "outputs": [
    {
     "name": "stdout",
     "output_type": "stream",
     "text": [
      "1 4 3 "
     ]
    }
   ],
   "source": [
    "def simple_gernerator():\n",
    "    yield 1\n",
    "    yield 2+2\n",
    "    yield 3\n",
    "    \n",
    "for value in simple_gernerator():\n",
    "    print(value,end=\" \")"
   ]
  },
  {
   "cell_type": "markdown",
   "id": "b8ffb39b",
   "metadata": {},
   "source": [
    "**Question:** \n",
    "* A Python program to generate squares from 1 to 100 using yield and therefore generator \n",
    "* An infinite generator function that prints next square number. It starts with 1"
   ]
  },
  {
   "cell_type": "code",
   "execution_count": 10,
   "id": "6461dd69",
   "metadata": {},
   "outputs": [
    {
     "name": "stdout",
     "output_type": "stream",
     "text": [
      "1 4 9 16 25 36 49 64 81 100 "
     ]
    }
   ],
   "source": [
    "def nextSquare():\n",
    "    i=1\n",
    "    \n",
    "    while True:\n",
    "        yield i*i\n",
    "        i+=1\n",
    "        \n",
    "for num in nextSquare():\n",
    "    if num >100:\n",
    "        break\n",
    "    print(num,end=\" \")"
   ]
  },
  {
   "cell_type": "markdown",
   "id": "9367478a",
   "metadata": {},
   "source": [
    "#### Alternate way"
   ]
  },
  {
   "cell_type": "code",
   "execution_count": 17,
   "id": "3f1d5d49",
   "metadata": {},
   "outputs": [
    {
     "name": "stdout",
     "output_type": "stream",
     "text": [
      "1 4 9 16 25 36 49 64 81 100 "
     ]
    }
   ],
   "source": [
    "n=10\n",
    "for i in range(1,n+1):\n",
    "    print(i*i,end=\" \")\n",
    "    "
   ]
  },
  {
   "cell_type": "markdown",
   "id": "7dc22b17",
   "metadata": {},
   "source": [
    "## Returning Multiple Values"
   ]
  },
  {
   "cell_type": "markdown",
   "id": "7c81a761",
   "metadata": {},
   "source": [
    "### <font color=blue>Using Object"
   ]
  },
  {
   "cell_type": "code",
   "execution_count": 7,
   "id": "d1688a11",
   "metadata": {},
   "outputs": [
    {
     "name": "stdout",
     "output_type": "stream",
     "text": [
      "Saiifi Haider\n",
      "20\n",
      "84\n"
     ]
    }
   ],
   "source": [
    "class Test:\n",
    "    def __init__(self):\n",
    "        self.str=\"Saiifi Haider\"\n",
    "        self.x=20\n",
    "        self.u=84\n",
    "        \n",
    "def func():\n",
    "    return Test()\n",
    "\n",
    "t=func()\n",
    "print(t.str)\n",
    "print(t.x)\n",
    "print(t.u)"
   ]
  },
  {
   "cell_type": "markdown",
   "id": "0554012f",
   "metadata": {},
   "source": [
    "### <font color=blue>Using tuple"
   ]
  },
  {
   "cell_type": "code",
   "execution_count": 13,
   "id": "210b7379",
   "metadata": {},
   "outputs": [
    {
     "name": "stdout",
     "output_type": "stream",
     "text": [
      "Saiifi Haider\n",
      "20\n"
     ]
    }
   ],
   "source": [
    "def func():\n",
    "    str=\"Saiifi Haider\"\n",
    "    x=20\n",
    "    return str , x\n",
    "\n",
    "x,y=func()\n",
    "print(x)\n",
    "print(y)"
   ]
  },
  {
   "cell_type": "markdown",
   "id": "e62d5020",
   "metadata": {},
   "source": [
    "### <font color=blue>Using list"
   ]
  },
  {
   "cell_type": "code",
   "execution_count": 17,
   "id": "06a37a81",
   "metadata": {},
   "outputs": [
    {
     "data": {
      "text/plain": [
       "['Saiifi Haider', 20]"
      ]
     },
     "execution_count": 17,
     "metadata": {},
     "output_type": "execute_result"
    }
   ],
   "source": [
    "def func():\n",
    "    str=\"Saiifi Haider\"\n",
    "    x=20\n",
    "    return [str,x];\n",
    "\n",
    "#list=func()\n",
    "#print(list)\n",
    "func()"
   ]
  },
  {
   "cell_type": "code",
   "execution_count": 24,
   "id": "2b76ece3",
   "metadata": {},
   "outputs": [
    {
     "name": "stdout",
     "output_type": "stream",
     "text": [
      "['Saiifi Haider', 20]\n"
     ]
    },
    {
     "data": {
      "text/plain": [
       "['Saiifi Haider', 20]"
      ]
     },
     "execution_count": 24,
     "metadata": {},
     "output_type": "execute_result"
    }
   ],
   "source": [
    "def func():\n",
    "    str=\"Saiifi Haider\"\n",
    "    x=20\n",
    "    return [str,x];\n",
    "\n",
    "list=func()\n",
    "print(list)\n",
    "func()"
   ]
  },
  {
   "cell_type": "markdown",
   "id": "df7a44cd",
   "metadata": {},
   "source": [
    "### <font color=blue>Using  a Dictionary"
   ]
  },
  {
   "cell_type": "code",
   "execution_count": 28,
   "id": "e0238c33",
   "metadata": {},
   "outputs": [
    {
     "name": "stdout",
     "output_type": "stream",
     "text": [
      "{'str': 'Saiifi Haider', 'x': 20}\n"
     ]
    }
   ],
   "source": [
    "def func():\n",
    "    d=dict();\n",
    "    d[\"str\"]=\"Saiifi Haider\"\n",
    "    d['x']=20\n",
    "    return d\n",
    "u=func()\n",
    "print(u)"
   ]
  },
  {
   "cell_type": "markdown",
   "id": "b4f6edd4",
   "metadata": {},
   "source": [
    "### <font color=blue>Using Data Class (Python 3.7+):"
   ]
  },
  {
   "cell_type": "code",
   "execution_count": 29,
   "id": "0aa8961e",
   "metadata": {},
   "outputs": [],
   "source": [
    "from dataclasses import dataclass"
   ]
  },
  {
   "cell_type": "code",
   "execution_count": 31,
   "id": "87187178",
   "metadata": {},
   "outputs": [
    {
     "name": "stdout",
     "output_type": "stream",
     "text": [
      "900\n"
     ]
    }
   ],
   "source": [
    "@dataclass\n",
    "class Book_list:\n",
    "    name:str\n",
    "    perunit_cost:float\n",
    "    quantity_available: int=0\n",
    "        \n",
    "    def total_cost(self)-> float:\n",
    "        return self.perunit_cost*self.quantity_available\n",
    "\n",
    "book=Book_list(\"Introduction to programming\",300,3)\n",
    "x=book.total_cost()\n",
    "print(x)"
   ]
  },
  {
   "cell_type": "code",
   "execution_count": 33,
   "id": "415beb74",
   "metadata": {},
   "outputs": [
    {
     "name": "stdout",
     "output_type": "stream",
     "text": [
      "Book_list(name='Introduction to programming', perunit_cost=300, quantity_available=3)\n"
     ]
    }
   ],
   "source": [
    "print(book)"
   ]
  },
  {
   "cell_type": "code",
   "execution_count": 34,
   "id": "5c5af04c",
   "metadata": {},
   "outputs": [
    {
     "data": {
      "text/plain": [
       "Book_list(name='Python programming', perunit_cost=200, quantity_available=3)"
      ]
     },
     "execution_count": 34,
     "metadata": {},
     "output_type": "execute_result"
    }
   ],
   "source": [
    "Book_list(name='Python programming', perunit_cost=200, quantity_available=3)"
   ]
  },
  {
   "cell_type": "code",
   "execution_count": 35,
   "id": "c96f5d2a",
   "metadata": {},
   "outputs": [
    {
     "name": "stdout",
     "output_type": "stream",
     "text": [
      "Book_list(name='Introduction to programming', perunit_cost=300, quantity_available=3)\n"
     ]
    }
   ],
   "source": [
    "print(book)"
   ]
  },
  {
   "cell_type": "markdown",
   "id": "32cdc958",
   "metadata": {},
   "source": [
    "## Partial Functions"
   ]
  },
  {
   "cell_type": "markdown",
   "id": "6ed6a3d9",
   "metadata": {},
   "source": [
    "Fix a certain number of arguments"
   ]
  },
  {
   "cell_type": "code",
   "execution_count": 1,
   "id": "7ac193b5",
   "metadata": {},
   "outputs": [],
   "source": [
    "from functools import partial"
   ]
  },
  {
   "cell_type": "code",
   "execution_count": 22,
   "id": "ef5ce5a4",
   "metadata": {},
   "outputs": [
    {
     "name": "stdout",
     "output_type": "stream",
     "text": [
      "3175\n"
     ]
    }
   ],
   "source": [
    "def f(a,b,c,x):\n",
    "    return 1000*a+100*b+10*c+x\n",
    "\n",
    "g=partial(f,3,1,7)\n",
    "\n",
    "print(g(5))"
   ]
  },
  {
   "cell_type": "code",
   "execution_count": 12,
   "id": "7f8c7160",
   "metadata": {},
   "outputs": [
    {
     "data": {
      "text/plain": [
       "3458"
      ]
     },
     "execution_count": 12,
     "metadata": {},
     "output_type": "execute_result"
    }
   ],
   "source": [
    "f(3,4,5,8)"
   ]
  },
  {
   "cell_type": "code",
   "execution_count": 30,
   "id": "a386c84c",
   "metadata": {},
   "outputs": [
    {
     "name": "stdout",
     "output_type": "stream",
     "text": [
      "3517\n"
     ]
    }
   ],
   "source": [
    "def f(a,b,c,x):\n",
    "    return 1000*a+100*b+10*c+x\n",
    "\n",
    "g=partial(f,a=3,c=1,x=7)\n",
    "\n",
    "print(g(b=5))"
   ]
  },
  {
   "cell_type": "code",
   "execution_count": 14,
   "id": "a5f26426",
   "metadata": {},
   "outputs": [],
   "source": [
    "from functools import *"
   ]
  },
  {
   "cell_type": "code",
   "execution_count": 19,
   "id": "68ed5e87",
   "metadata": {},
   "outputs": [
    {
     "name": "stdout",
     "output_type": "stream",
     "text": [
      "312\n"
     ]
    }
   ],
   "source": [
    "def add(a,b,c):\n",
    "    return 100*a+10*b+c\n",
    "\n",
    "add_part=partial(add,c=2,b=1)\n",
    "\n",
    "print(add_part(3))"
   ]
  },
  {
   "cell_type": "markdown",
   "id": "4d113f1a",
   "metadata": {},
   "source": [
    "## First Class functions"
   ]
  },
  {
   "cell_type": "markdown",
   "id": "ba9cf80c",
   "metadata": {},
   "source": [
    "### 1) Functions are objects:"
   ]
  },
  {
   "cell_type": "code",
   "execution_count": 37,
   "id": "79a2d522",
   "metadata": {},
   "outputs": [
    {
     "name": "stdout",
     "output_type": "stream",
     "text": [
      "HELLO\n",
      "HELLO\n"
     ]
    }
   ],
   "source": [
    "def shout(text):\n",
    "    return text.upper()\n",
    "  \n",
    "print (shout('Hello'))\n",
    "  \n",
    "yell = shout\n",
    "  \n",
    "print (yell('Hello'))"
   ]
  },
  {
   "cell_type": "markdown",
   "id": "f2a8aa02",
   "metadata": {},
   "source": [
    "### 2) Functions can be passed as arguments to other functions:"
   ]
  },
  {
   "cell_type": "code",
   "execution_count": 36,
   "id": "1cee5ec3",
   "metadata": {},
   "outputs": [
    {
     "name": "stdout",
     "output_type": "stream",
     "text": [
      "HELLO WORLD , MY NAME IS SAIIFI HAIDER\n",
      "hello world , my name is saiifi haider\n"
     ]
    }
   ],
   "source": [
    "def upper(text):\n",
    "    return text.upper()\n",
    "\n",
    "def lower(text):\n",
    "    return text.lower()\n",
    "\n",
    "def greet(func):\n",
    "    greetings= func(\"Hello World , My name is Saiifi Haider\")\n",
    "    \n",
    "    print(greetings)\n",
    "    \n",
    "greet(upper)\n",
    "greet(lower)"
   ]
  },
  {
   "cell_type": "markdown",
   "id": "87a1aa1d",
   "metadata": {},
   "source": [
    "### 3) Functions can return another function:"
   ]
  },
  {
   "cell_type": "code",
   "execution_count": 38,
   "id": "af58cea2",
   "metadata": {},
   "outputs": [
    {
     "data": {
      "text/plain": [
       "30"
      ]
     },
     "execution_count": 38,
     "metadata": {},
     "output_type": "execute_result"
    }
   ],
   "source": [
    "def c_add(x):\n",
    "    def add(y):\n",
    "        return x+y\n",
    "    return add\n",
    "\n",
    "add_15=c_add(15)\n",
    "\n",
    "add_15(15)"
   ]
  },
  {
   "cell_type": "code",
   "execution_count": null,
   "id": "010afe5c",
   "metadata": {},
   "outputs": [],
   "source": []
  }
 ],
 "metadata": {
  "kernelspec": {
   "display_name": "Python 3 (ipykernel)",
   "language": "python",
   "name": "python3"
  },
  "language_info": {
   "codemirror_mode": {
    "name": "ipython",
    "version": 3
   },
   "file_extension": ".py",
   "mimetype": "text/x-python",
   "name": "python",
   "nbconvert_exporter": "python",
   "pygments_lexer": "ipython3",
   "version": "3.9.7"
  }
 },
 "nbformat": 4,
 "nbformat_minor": 5
}
