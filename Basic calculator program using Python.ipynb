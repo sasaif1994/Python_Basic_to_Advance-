{
 "cells": [
  {
   "cell_type": "code",
   "execution_count": 1,
   "id": "d10705d0",
   "metadata": {},
   "outputs": [
    {
     "name": "stdout",
     "output_type": "stream",
     "text": [
      "Select operation from 1,2,3,4 :2\n",
      "Enter first number:6\n",
      "Enter second number:4\n",
      "6 - 4 = 2\n"
     ]
    }
   ],
   "source": [
    "def add(n1,n2):\n",
    "    return n1+n2\n",
    "def sub(n1,n2):\n",
    "    return n1-n2\n",
    "def multiply(n1,n2):\n",
    "    return n1*n2\n",
    "def divide(n1,n2):\n",
    "    return n1/n2\n",
    "\n",
    "select=int(input(\"Select operation from 1,2,3,4 :\"))\n",
    "\n",
    "num1= int(input(\"Enter first number:\"))\n",
    "num2=int(input(\"Enter second number:\"))\n",
    "\n",
    "if select==1:\n",
    "    print(num1 ,\"+\",num2, \"=\",add(num1,num2))\n",
    "elif select==2:\n",
    "    print(num1,\"-\",num2,\"=\",sub(num1,num2))\n",
    "elif select==4:\n",
    "    print(num1,\"*\",num2,\"=\",multiply(num1,num2))\n",
    "else:\n",
    "    print(num1,\"/\",num2,\"=\",divide(num1,num2))"
   ]
  },
  {
   "cell_type": "markdown",
   "id": "384dca45",
   "metadata": {},
   "source": [
    "### Program to check if a number is prime or not"
   ]
  },
  {
   "cell_type": "code",
   "execution_count": 3,
   "id": "c6786c27",
   "metadata": {},
   "outputs": [
    {
     "name": "stdout",
     "output_type": "stream",
     "text": [
      "Enter a number: 89\n",
      "89 is a prime number\n"
     ]
    }
   ],
   "source": [
    "#num = 29\n",
    "\n",
    "# To take input from the user\n",
    "num = int(input(\"Enter a number: \"))\n",
    "\n",
    "# define a flag variable\n",
    "flag = False\n",
    "\n",
    "# prime numbers are greater than 1\n",
    "if num > 1:\n",
    "    # check for factors\n",
    "    for i in range(2, num):\n",
    "        if (num % i) == 0:\n",
    "            # if factor is found, set flag to True\n",
    "            flag = True\n",
    "            # break out of loop\n",
    "            break\n",
    "\n",
    "# check if flag is True\n",
    "if flag:\n",
    "    print(num, \"is not a prime number\")\n",
    "else:\n",
    "    print(num, \"is a prime number\")"
   ]
  },
  {
   "cell_type": "code",
   "execution_count": 20,
   "id": "940c124b",
   "metadata": {},
   "outputs": [
    {
     "name": "stdout",
     "output_type": "stream",
     "text": [
      "2 is prime\n"
     ]
    }
   ],
   "source": [
    "#practice\n",
    "num=2\n",
    "flag=False\n",
    "\n",
    "if num>0:\n",
    "    for i in range(2,num):\n",
    "        if (num%i)==0:\n",
    "            flag=True\n",
    "            break\n",
    "if flag:\n",
    "    print(num,\"is not prime\")\n",
    "else:\n",
    "    print(num,\"is prime\")"
   ]
  },
  {
   "cell_type": "code",
   "execution_count": null,
   "id": "d86b2e2e",
   "metadata": {},
   "outputs": [],
   "source": []
  },
  {
   "cell_type": "markdown",
   "id": "21146fc2",
   "metadata": {},
   "source": [
    "### Program to print & all primes less than N"
   ]
  },
  {
   "cell_type": "code",
   "execution_count": 107,
   "id": "65478181",
   "metadata": {},
   "outputs": [
    {
     "name": "stdout",
     "output_type": "stream",
     "text": [
      "Put any number: 7\n",
      "True\n",
      "2 3 5 7 None\n",
      "17\n"
     ]
    }
   ],
   "source": [
    "n=int(input(\"Put any number: \"))\n",
    "def isPrime(n):\n",
    "    if n > 1 :\n",
    "        for i in range(2,n):\n",
    "            if n % i == 0:\n",
    "                return False\n",
    "        return True\n",
    "def printPrime(n):                                          \n",
    "    for i in range(2, n + 1):\n",
    "        if isPrime(i):\n",
    "            print(i, end = \" \")\n",
    "\n",
    "def sum_prime(n):\n",
    "    sum = 0\n",
    "    for i in range(2,n+1):\n",
    "        if isPrime(i):\n",
    "            sum +=i\n",
    "    return sum\n",
    "\n",
    "print(isPrime(n))\n",
    "print(printPrime(n))\n",
    "print(sum_prime(n))"
   ]
  },
  {
   "cell_type": "code",
   "execution_count": 95,
   "id": "7f0c00bf",
   "metadata": {},
   "outputs": [
    {
     "data": {
      "text/plain": [
       "True"
      ]
     },
     "execution_count": 95,
     "metadata": {},
     "output_type": "execute_result"
    }
   ],
   "source": [
    "isPrime(5)"
   ]
  },
  {
   "cell_type": "code",
   "execution_count": 96,
   "id": "ae1bf468",
   "metadata": {},
   "outputs": [
    {
     "name": "stdout",
     "output_type": "stream",
     "text": [
      "2 3 5 "
     ]
    }
   ],
   "source": [
    "printPrime(5)"
   ]
  },
  {
   "cell_type": "code",
   "execution_count": 98,
   "id": "6de2bcfb",
   "metadata": {},
   "outputs": [
    {
     "data": {
      "text/plain": [
       "29"
      ]
     },
     "execution_count": 98,
     "metadata": {},
     "output_type": "execute_result"
    }
   ],
   "source": [
    "sum_prime(11)"
   ]
  },
  {
   "cell_type": "code",
   "execution_count": 76,
   "id": "574c63d4",
   "metadata": {},
   "outputs": [
    {
     "name": "stdout",
     "output_type": "stream",
     "text": [
      "Find sum of prime numbers upto : 11\n",
      "This Is not prime number\n",
      "4 6 8 9 10 \n",
      "Sum of all prime numbers upto 10 : 26\n"
     ]
    }
   ],
   "source": [
    "# Take input from user\n",
    "n = int(input(\"Find sum of prime numbers upto : \"))\n",
    "\n",
    "sum = 0\n",
    "print(\"This Is not prime number\")\n",
    "for num in range(2, n + 1):\n",
    "\n",
    "    i = 2\n",
    "   \n",
    "    for i in range(2, num):\n",
    "        \n",
    "        if (int(num % i) == 0):\n",
    "            i = num\n",
    "            print(i,end=\" \")\n",
    "            break;\n",
    "\n",
    "    #If the number is prime then add it.\n",
    "    if i is not num:\n",
    "        #print(i,end=\" \")\n",
    "        sum += num\n",
    "        \n",
    "        \n",
    "print(\"\\nSum of all prime numbers upto\", upto, \":\", sum)"
   ]
  },
  {
   "cell_type": "code",
   "execution_count": 99,
   "id": "1ade18a5",
   "metadata": {},
   "outputs": [
    {
     "name": "stdout",
     "output_type": "stream",
     "text": [
      " Please Enter the Minimum Value: 1\n",
      " Please Enter the Maximum Value: 100\n",
      "2  3  5  7  11  13  17  19  23  29  31  37  41  43  47  53  59  61  67  71  73  79  83  89  97  \n",
      "\n",
      "Sum of Prime Numbers from 1 to 100 = 1060\n"
     ]
    }
   ],
   "source": [
    "# Python Program to find Sum of Prime Numbers from 1 to N\n",
    " \n",
    "minimum = int(input(\" Please Enter the Minimum Value: \"))\n",
    "maximum = int(input(\" Please Enter the Maximum Value: \"))\n",
    "total = 0\n",
    "\n",
    "for Number in range (minimum, maximum + 1):\n",
    "    count = 0\n",
    "    for i in range(2, (Number//2 + 1)):\n",
    "        if(Number % i == 0):\n",
    "            count = count + 1\n",
    "            break\n",
    "\n",
    "    if (count == 0 and Number != 1):\n",
    "        print(\"%d\" %Number, end = '  ')\n",
    "        total = total + Number\n",
    "\n",
    "print(\"\\n\\nSum of Prime Numbers from %d to %d = %d\" %(minimum, maximum, total))"
   ]
  },
  {
   "cell_type": "code",
   "execution_count": 94,
   "id": "0814b5bd",
   "metadata": {},
   "outputs": [
    {
     "data": {
      "text/plain": [
       "3"
      ]
     },
     "execution_count": 94,
     "metadata": {},
     "output_type": "execute_result"
    }
   ],
   "source": [
    "10//3 "
   ]
  },
  {
   "cell_type": "code",
   "execution_count": 95,
   "id": "49ef1edf",
   "metadata": {},
   "outputs": [
    {
     "data": {
      "text/plain": [
       "1"
      ]
     },
     "execution_count": 95,
     "metadata": {},
     "output_type": "execute_result"
    }
   ],
   "source": [
    "10%3 "
   ]
  },
  {
   "cell_type": "code",
   "execution_count": 125,
   "id": "cf90487b",
   "metadata": {},
   "outputs": [],
   "source": [
    "def isprime(n):\n",
    "    if n>0:\n",
    "        for i in range(2,n):\n",
    "            if n%i==0:\n",
    "                return False\n",
    "        return True\n",
    "def printprime(n):\n",
    "    for i in range(2,n+1):\n",
    "        if isprime(i):\n",
    "            print(i,end=\" \")\n",
    "def sumprime(n):\n",
    "    sum=0\n",
    "    for i in range(2,n+1):\n",
    "        if isprime(i):\n",
    "            sum+=i\n",
    "    return sum"
   ]
  },
  {
   "cell_type": "code",
   "execution_count": 126,
   "id": "d609fd74",
   "metadata": {},
   "outputs": [
    {
     "data": {
      "text/plain": [
       "False"
      ]
     },
     "execution_count": 126,
     "metadata": {},
     "output_type": "execute_result"
    }
   ],
   "source": [
    "isprime(8)"
   ]
  },
  {
   "cell_type": "code",
   "execution_count": 127,
   "id": "e81e5cb8",
   "metadata": {},
   "outputs": [
    {
     "name": "stdout",
     "output_type": "stream",
     "text": [
      "2 3 5 7 "
     ]
    }
   ],
   "source": [
    "printprime(10)"
   ]
  },
  {
   "cell_type": "code",
   "execution_count": 129,
   "id": "e6789358",
   "metadata": {},
   "outputs": [
    {
     "data": {
      "text/plain": [
       "28"
      ]
     },
     "execution_count": 129,
     "metadata": {},
     "output_type": "execute_result"
    }
   ],
   "source": [
    "sumprime(11)"
   ]
  },
  {
   "cell_type": "code",
   "execution_count": null,
   "id": "a34a1cc9",
   "metadata": {},
   "outputs": [],
   "source": []
  }
 ],
 "metadata": {
  "kernelspec": {
   "display_name": "Python 3 (ipykernel)",
   "language": "python",
   "name": "python3"
  },
  "language_info": {
   "codemirror_mode": {
    "name": "ipython",
    "version": 3
   },
   "file_extension": ".py",
   "mimetype": "text/x-python",
   "name": "python",
   "nbconvert_exporter": "python",
   "pygments_lexer": "ipython3",
   "version": "3.9.7"
  }
 },
 "nbformat": 4,
 "nbformat_minor": 5
}
