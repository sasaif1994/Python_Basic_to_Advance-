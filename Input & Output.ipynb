{
 "cells": [
  {
   "cell_type": "code",
   "execution_count": null,
   "id": "73e67a1b",
   "metadata": {},
   "outputs": [],
   "source": []
  },
  {
   "cell_type": "code",
   "execution_count": null,
   "id": "53d99a7f",
   "metadata": {},
   "outputs": [],
   "source": []
  },
  {
   "cell_type": "markdown",
   "id": "f99b1e0b",
   "metadata": {},
   "source": [
    "### Taking multiple inputs from user in Python"
   ]
  },
  {
   "cell_type": "markdown",
   "id": "2139aa38",
   "metadata": {},
   "source": [
    "#### input().split(separator, maxsplit)"
   ]
  },
  {
   "cell_type": "code",
   "execution_count": 20,
   "id": "ba498ad6",
   "metadata": {},
   "outputs": [
    {
     "name": "stdout",
     "output_type": "stream",
     "text": [
      "4 5\n"
     ]
    }
   ],
   "source": [
    "x,y= input().split()"
   ]
  },
  {
   "cell_type": "code",
   "execution_count": 42,
   "id": "f09211d5",
   "metadata": {},
   "outputs": [
    {
     "name": "stdout",
     "output_type": "stream",
     "text": [
      "4,567\n"
     ]
    },
    {
     "data": {
      "text/plain": [
       "['4', '567']"
      ]
     },
     "execution_count": 42,
     "metadata": {},
     "output_type": "execute_result"
    }
   ],
   "source": [
    "p= input().split(',')\n",
    "list(p)"
   ]
  },
  {
   "cell_type": "code",
   "execution_count": 41,
   "id": "33791300",
   "metadata": {},
   "outputs": [
    {
     "data": {
      "text/plain": [
       "'456'"
      ]
     },
     "execution_count": 41,
     "metadata": {},
     "output_type": "execute_result"
    }
   ],
   "source": [
    "y=''.join(p)\n",
    "y"
   ]
  },
  {
   "cell_type": "code",
   "execution_count": 17,
   "id": "721d97e4",
   "metadata": {},
   "outputs": [
    {
     "name": "stdout",
     "output_type": "stream",
     "text": [
      "4,5,9\n"
     ]
    }
   ],
   "source": [
    "x,y,z= input().split(',')"
   ]
  },
  {
   "cell_type": "code",
   "execution_count": 13,
   "id": "83f5448c",
   "metadata": {},
   "outputs": [
    {
     "name": "stdout",
     "output_type": "stream",
     "text": [
      "Enter two values: 10 20\n",
      "Number of boys:  10\n",
      "Number of girls:  20\n",
      "\n"
     ]
    }
   ],
   "source": [
    "x, y = input(\"Enter two values: \").split()\n",
    "print(\"Number of boys: \", x)\n",
    "print(\"Number of girls: \", y)\n",
    "print()"
   ]
  },
  {
   "cell_type": "code",
   "execution_count": 28,
   "id": "753713ae",
   "metadata": {},
   "outputs": [
    {
     "name": "stdout",
     "output_type": "stream",
     "text": [
      "Enter multiple value: 10 50\n",
      "Number of list is:  [10, 50]\n"
     ]
    }
   ],
   "source": [
    "x = [int(x) for x in input(\"Enter multiple value: \").split(\" \")]\n",
    "print(\"Number of list is: \", x)"
   ]
  },
  {
   "cell_type": "code",
   "execution_count": 19,
   "id": "d4a54de9",
   "metadata": {},
   "outputs": [
    {
     "name": "stdout",
     "output_type": "stream",
     "text": [
      "Enter number :4 5\n",
      "one Value 4 and the other value 5\n"
     ]
    }
   ],
   "source": [
    "u,v=[int(x) for x in input(\"Enter number :\" ).split()]\n",
    "print(\"one Value {} and the other value {}\".format(u,v))"
   ]
  },
  {
   "cell_type": "markdown",
   "id": "ad725922",
   "metadata": {},
   "source": [
    "### Output using print() function"
   ]
  },
  {
   "cell_type": "markdown",
   "id": "873ddc2f",
   "metadata": {},
   "source": [
    "#### String Literals\n",
    "    \\n : This string literal is used to add a new blank line while printing a statement.\n",
    "    “” : An empty quote (“”) is used to print an empty line."
   ]
  },
  {
   "cell_type": "code",
   "execution_count": 4,
   "id": "044f629a",
   "metadata": {},
   "outputs": [
    {
     "name": "stdout",
     "output_type": "stream",
     "text": [
      "Hello world \n",
      "My name is saif\n"
     ]
    }
   ],
   "source": [
    "print(\"Hello world \\nMy name is saif\")"
   ]
  },
  {
   "cell_type": "markdown",
   "id": "288d9825",
   "metadata": {},
   "source": [
    "#### end= ” ” statement"
   ]
  },
  {
   "cell_type": "code",
   "execution_count": 7,
   "id": "c775bfbd",
   "metadata": {},
   "outputs": [
    {
     "name": "stdout",
     "output_type": "stream",
     "text": [
      "Hello world #"
     ]
    }
   ],
   "source": [
    "print(\"Hello world\",end=\" #\")"
   ]
  },
  {
   "cell_type": "code",
   "execution_count": 12,
   "id": "f098e56a",
   "metadata": {},
   "outputs": [
    {
     "name": "stdout",
     "output_type": "stream",
     "text": [
      "Hello world &\n",
      "My name is Blood freak\n"
     ]
    }
   ],
   "source": [
    "print(\"Hello world\", end=\" &\")\n",
    "print(\"\\nMy name is Blood freak\")"
   ]
  },
  {
   "cell_type": "markdown",
   "id": "3902e080",
   "metadata": {},
   "source": [
    "#### flush Argument"
   ]
  },
  {
   "cell_type": "markdown",
   "id": "0918eef9",
   "metadata": {},
   "source": [
    "The flush() method in Python file handling clears the internal buffer of the file. In Python, files are automatically flushed while closing them. However, a programmer can flush a file before closing it by using the flush() method. This method does not require any parameters and it does not return anything."
   ]
  },
  {
   "cell_type": "code",
   "execution_count": 13,
   "id": "c9a55cb0",
   "metadata": {},
   "outputs": [
    {
     "name": "stdout",
     "output_type": "stream",
     "text": [
      "7>>>6>>>5>>>4>>>3>>>2>>>1>>>start\n"
     ]
    }
   ],
   "source": [
    "import time\n",
    "\n",
    "count_second=7\n",
    "for i in reversed(range(count_second+1)):\n",
    "        if i>0:\n",
    "            print(i,end='>>>') # add >>> after i print \n",
    "            time.sleep(2)  # Delay in printing the value\n",
    "        else:\n",
    "            print('start')     # it will print for zero or less.       "
   ]
  },
  {
   "cell_type": "code",
   "execution_count": 15,
   "id": "da9f761b",
   "metadata": {},
   "outputs": [
    {
     "name": "stdout",
     "output_type": "stream",
     "text": [
      "7>>>6>>>5>>>4>>>3>>>2>>>1>>>start\n"
     ]
    }
   ],
   "source": [
    "import time\n",
    "\n",
    "count_second=7\n",
    "for i in reversed(range(count_second+1)):\n",
    "        if i>0:\n",
    "            print(i,end='>>>',flush=True)\n",
    "            time.sleep(2)\n",
    "        else:\n",
    "            print('start')         "
   ]
  },
  {
   "cell_type": "markdown",
   "id": "d955abc7",
   "metadata": {},
   "source": [
    "### Separator"
   ]
  },
  {
   "cell_type": "markdown",
   "id": "dd62899b",
   "metadata": {},
   "source": [
    "can be separated from each other using a “,” separator. These are primarily used for formatting multiple statements in a single print() function."
   ]
  },
  {
   "cell_type": "code",
   "execution_count": 16,
   "id": "8e81b930",
   "metadata": {},
   "outputs": [
    {
     "name": "stdout",
     "output_type": "stream",
     "text": [
      "Hello world My name is saif\n"
     ]
    }
   ],
   "source": [
    "b=\"world\"\n",
    "print(\"Hello\", b ,\"My name is saif\")"
   ]
  },
  {
   "cell_type": "markdown",
   "id": "3c460a41",
   "metadata": {},
   "source": [
    "### Sep parameter"
   ]
  },
  {
   "cell_type": "code",
   "execution_count": 112,
   "id": "325dc6b3",
   "metadata": {},
   "outputs": [
    {
     "name": "stdout",
     "output_type": "stream",
     "text": [
      "H|E|Y\n"
     ]
    }
   ],
   "source": [
    "print('H','E','Y',sep='|')"
   ]
  },
  {
   "cell_type": "code",
   "execution_count": 113,
   "id": "de8152c5",
   "metadata": {},
   "outputs": [
    {
     "name": "stdout",
     "output_type": "stream",
     "text": [
      "09-11-1994\n"
     ]
    }
   ],
   "source": [
    "print('09','11','1994',sep='-')"
   ]
  },
  {
   "cell_type": "code",
   "execution_count": 116,
   "id": "9a4e71d3",
   "metadata": {},
   "outputs": [
    {
     "name": "stdout",
     "output_type": "stream",
     "text": [
      "Hello # World\n"
     ]
    }
   ],
   "source": [
    "print('Hello','World',sep=' # ')"
   ]
  },
  {
   "cell_type": "code",
   "execution_count": 122,
   "id": "a4985243",
   "metadata": {},
   "outputs": [
    {
     "name": "stdout",
     "output_type": "stream",
     "text": [
      "hello @ world #"
     ]
    }
   ],
   "source": [
    "print('hello' ,'world',sep=' @ ' ,end=' #')"
   ]
  },
  {
   "cell_type": "code",
   "execution_count": 123,
   "id": "7f01e662",
   "metadata": {},
   "outputs": [],
   "source": [
    "import antigravity"
   ]
  },
  {
   "cell_type": "code",
   "execution_count": null,
   "id": "4efceaf9",
   "metadata": {},
   "outputs": [],
   "source": []
  },
  {
   "cell_type": "markdown",
   "id": "d9d08262",
   "metadata": {},
   "source": [
    "### file Argument"
   ]
  },
  {
   "cell_type": "code",
   "execution_count": 18,
   "id": "a04ad7fb",
   "metadata": {},
   "outputs": [
    {
     "data": {
      "text/plain": [
       "'Hello world \\n'"
      ]
     },
     "execution_count": 18,
     "metadata": {},
     "output_type": "execute_result"
    }
   ],
   "source": [
    "import io\n",
    "dummy_file=io.StringIO()\n",
    "print('Hello world ',file=dummy_file)\n",
    "dummy_file.getvalue()"
   ]
  },
  {
   "cell_type": "code",
   "execution_count": 22,
   "id": "d2d55d18",
   "metadata": {},
   "outputs": [
    {
     "data": {
      "text/plain": [
       "'C:\\\\Users\\\\sasai\\\\jupyter notebook\\\\Python\\\\Basic to Advance'"
      ]
     },
     "execution_count": 22,
     "metadata": {},
     "output_type": "execute_result"
    }
   ],
   "source": [
    "import os\n",
    "os.getcwd()"
   ]
  },
  {
   "cell_type": "markdown",
   "id": "4ab48804",
   "metadata": {},
   "source": [
    "### StringIO Module in Python"
   ]
  },
  {
   "cell_type": "code",
   "execution_count": 72,
   "id": "2ff77a92",
   "metadata": {},
   "outputs": [],
   "source": [
    "from io import StringIO\n",
    "string ='Hello World'"
   ]
  },
  {
   "cell_type": "markdown",
   "id": "6673b574",
   "metadata": {},
   "source": [
    "##### Naming a file"
   ]
  },
  {
   "cell_type": "code",
   "execution_count": 73,
   "id": "7cc3dc36",
   "metadata": {},
   "outputs": [],
   "source": [
    "file =StringIO(string)"
   ]
  },
  {
   "cell_type": "code",
   "execution_count": 74,
   "id": "6c261185",
   "metadata": {},
   "outputs": [
    {
     "name": "stdout",
     "output_type": "stream",
     "text": [
      "Hello World\n"
     ]
    }
   ],
   "source": [
    "print(file.read())"
   ]
  },
  {
   "cell_type": "code",
   "execution_count": 75,
   "id": "688cbb0c",
   "metadata": {},
   "outputs": [
    {
     "data": {
      "text/plain": [
       "16"
      ]
     },
     "execution_count": 75,
     "metadata": {},
     "output_type": "execute_result"
    }
   ],
   "source": [
    "file.write(\" My Name is Saif\")"
   ]
  },
  {
   "cell_type": "code",
   "execution_count": 78,
   "id": "a0a0be0b",
   "metadata": {},
   "outputs": [
    {
     "name": "stdout",
     "output_type": "stream",
     "text": [
      "Updated File: Hello World My Name is Saif\n"
     ]
    }
   ],
   "source": [
    "print('Updated File:',file.read())"
   ]
  },
  {
   "cell_type": "code",
   "execution_count": null,
   "id": "92ddb38d",
   "metadata": {},
   "outputs": [],
   "source": []
  },
  {
   "cell_type": "markdown",
   "id": "9086163c",
   "metadata": {},
   "source": [
    "**Note**\n",
    "* Now if we again want to read the file it shows empty file because the cursor is set to the last index.\n",
    "* This does not print anything because the function returns an empty string.\n",
    "* Hence to set the cursor position to read or write the file again we use seek().We can pass any index here form(0 to len(file))"
   ]
  },
  {
   "cell_type": "code",
   "execution_count": 79,
   "id": "02a9226d",
   "metadata": {},
   "outputs": [
    {
     "data": {
      "text/plain": [
       "0"
      ]
     },
     "execution_count": 79,
     "metadata": {},
     "output_type": "execute_result"
    }
   ],
   "source": [
    "file.seek(0)"
   ]
  },
  {
   "cell_type": "markdown",
   "id": "7a50bd11",
   "metadata": {},
   "source": [
    "#### Now we can able to read the file again()"
   ]
  },
  {
   "cell_type": "code",
   "execution_count": 54,
   "id": "0d9b54cc",
   "metadata": {},
   "outputs": [
    {
     "name": "stdout",
     "output_type": "stream",
     "text": [
      "Updated File: Hello World My Name is Saif\n"
     ]
    }
   ],
   "source": [
    "print('Updated File:',file.read())"
   ]
  },
  {
   "cell_type": "code",
   "execution_count": 47,
   "id": "d984f6ee",
   "metadata": {},
   "outputs": [
    {
     "data": {
      "text/plain": [
       "'Hello World My Name is Saif'"
      ]
     },
     "execution_count": 47,
     "metadata": {},
     "output_type": "execute_result"
    }
   ],
   "source": [
    "file.getvalue()"
   ]
  },
  {
   "cell_type": "markdown",
   "id": "f9751ef3",
   "metadata": {},
   "source": [
    "* **File_name.isatty()**:This function Return True if the stream is interactive and False if the stream not is interactive\n",
    "* **File_name.readable()**:This function return True if the file is readable and returns False if file is not readable.\n",
    "* **File_name.writable()**:This function return True if the file supports writing and returns False if file does not support writing.\n",
    "* **File_name.seekable()**:This function return True if the file supports random access and returns False if file does not support random access.\n",
    "* **File_name.closed**:This function return True if the file is closed and returns False if file is open.\n",
    "* **File_name.close()**: This method is used to close the file. After this function called on a file, we cannot perform any operation on the file. If any operation is performed, it will raise a ValueError.\n",
    "* **File_name.truncate()**: This function is used to resize the size of the file stream. This method drops the file after the provided index and saves it. \n",
    "* **File_name.tell()**: This method is used to tell the current stream or cursor position of the file."
   ]
  },
  {
   "cell_type": "code",
   "execution_count": 51,
   "id": "a128b29b",
   "metadata": {},
   "outputs": [
    {
     "name": "stdout",
     "output_type": "stream",
     "text": [
      "False\n",
      "True\n",
      "True\n",
      "True\n",
      "False\n"
     ]
    }
   ],
   "source": [
    "print(file.isatty())\n",
    "print(file.readable())\n",
    "print(file.writable())\n",
    "print(file.seekable())\n",
    "print(file.closed)"
   ]
  },
  {
   "cell_type": "code",
   "execution_count": 80,
   "id": "fca0317a",
   "metadata": {},
   "outputs": [
    {
     "data": {
      "text/plain": [
       "10"
      ]
     },
     "execution_count": 80,
     "metadata": {},
     "output_type": "execute_result"
    }
   ],
   "source": [
    "# This will drop the file after index 10.\n",
    "file.truncate(10)"
   ]
  },
  {
   "cell_type": "code",
   "execution_count": 81,
   "id": "da387245",
   "metadata": {},
   "outputs": [
    {
     "data": {
      "text/plain": [
       "'Hello Worl'"
      ]
     },
     "execution_count": 81,
     "metadata": {},
     "output_type": "execute_result"
    }
   ],
   "source": [
    "file.read()"
   ]
  },
  {
   "cell_type": "code",
   "execution_count": 82,
   "id": "498aed89",
   "metadata": {},
   "outputs": [
    {
     "name": "stdout",
     "output_type": "stream",
     "text": [
      "10\n"
     ]
    }
   ],
   "source": [
    "print(file.tell())"
   ]
  },
  {
   "cell_type": "code",
   "execution_count": 83,
   "id": "76b03650",
   "metadata": {},
   "outputs": [],
   "source": [
    "file.close()"
   ]
  },
  {
   "cell_type": "code",
   "execution_count": 84,
   "id": "362a5b06",
   "metadata": {},
   "outputs": [
    {
     "name": "stdout",
     "output_type": "stream",
     "text": [
      "True\n"
     ]
    }
   ],
   "source": [
    "print(file.closed)"
   ]
  },
  {
   "cell_type": "markdown",
   "id": "1cefb8a8",
   "metadata": {},
   "source": [
    "**<font color='red'>How to open the closed file</font>**"
   ]
  },
  {
   "cell_type": "markdown",
   "id": "923d10ce",
   "metadata": {},
   "source": [
    "### Print without newline in Python 2.x"
   ]
  },
  {
   "cell_type": "markdown",
   "id": "164484c9",
   "metadata": {},
   "source": [
    "##### Before"
   ]
  },
  {
   "cell_type": "code",
   "execution_count": 91,
   "id": "1ef88728",
   "metadata": {},
   "outputs": [
    {
     "name": "stdout",
     "output_type": "stream",
     "text": [
      "Hello World\n",
      "My name is Saif\n"
     ]
    }
   ],
   "source": [
    "print(\"Hello World\" )\n",
    "print(\"My name is Saif\")"
   ]
  },
  {
   "cell_type": "markdown",
   "id": "ee637311",
   "metadata": {},
   "source": [
    "##### After"
   ]
  },
  {
   "cell_type": "code",
   "execution_count": 105,
   "id": "bbea7247",
   "metadata": {},
   "outputs": [
    {
     "name": "stdout",
     "output_type": "stream",
     "text": [
      "Hello World My name is Saif\n"
     ]
    }
   ],
   "source": [
    "print(\"Hello World\" ,end=\" \")\n",
    "print(\"My name is Saif\")"
   ]
  },
  {
   "cell_type": "markdown",
   "id": "a398f7f3",
   "metadata": {},
   "source": [
    "#### Array"
   ]
  },
  {
   "cell_type": "code",
   "execution_count": 92,
   "id": "7282cb42",
   "metadata": {},
   "outputs": [],
   "source": [
    "a=[1,2,3,4,5]"
   ]
  },
  {
   "cell_type": "code",
   "execution_count": 93,
   "id": "168d1da2",
   "metadata": {},
   "outputs": [
    {
     "data": {
      "text/plain": [
       "[1, 2, 3, 4, 5]"
      ]
     },
     "execution_count": 93,
     "metadata": {},
     "output_type": "execute_result"
    }
   ],
   "source": [
    "a"
   ]
  },
  {
   "cell_type": "markdown",
   "id": "648ec405",
   "metadata": {},
   "source": [
    "##### Before"
   ]
  },
  {
   "cell_type": "code",
   "execution_count": 104,
   "id": "37d36277",
   "metadata": {},
   "outputs": [
    {
     "name": "stdout",
     "output_type": "stream",
     "text": [
      "1\n",
      "2\n",
      "3\n",
      "4\n",
      "5\n"
     ]
    }
   ],
   "source": [
    "for i in range(len(a)):\n",
    "    print(a[i])"
   ]
  },
  {
   "cell_type": "markdown",
   "id": "04f61448",
   "metadata": {},
   "source": [
    "##### After"
   ]
  },
  {
   "cell_type": "code",
   "execution_count": 106,
   "id": "a339df1a",
   "metadata": {},
   "outputs": [
    {
     "name": "stdout",
     "output_type": "stream",
     "text": [
      "1 2 3 4 5 "
     ]
    }
   ],
   "source": [
    "for i in range(len(a)):\n",
    "    print(a[i],end=\" \")"
   ]
  },
  {
   "cell_type": "markdown",
   "id": "e25a4f39",
   "metadata": {},
   "source": [
    "### Print without newline in Python 3.x without using for loop"
   ]
  },
  {
   "cell_type": "markdown",
   "id": "65ef7fec",
   "metadata": {},
   "source": [
    "**Using * symbol prints the list elements in a single line**"
   ]
  },
  {
   "cell_type": "code",
   "execution_count": 107,
   "id": "29b6b47c",
   "metadata": {},
   "outputs": [],
   "source": [
    "l=[1,2,3,4,5,6]"
   ]
  },
  {
   "cell_type": "code",
   "execution_count": 110,
   "id": "780ca534",
   "metadata": {},
   "outputs": [
    {
     "name": "stdout",
     "output_type": "stream",
     "text": [
      "[1, 2, 3, 4, 5, 6]\n"
     ]
    }
   ],
   "source": [
    "print(l)"
   ]
  },
  {
   "cell_type": "code",
   "execution_count": 111,
   "id": "b5d6181d",
   "metadata": {},
   "outputs": [
    {
     "name": "stdout",
     "output_type": "stream",
     "text": [
      "1 2 3 4 5 6\n"
     ]
    }
   ],
   "source": [
    "print(*l)"
   ]
  },
  {
   "cell_type": "markdown",
   "id": "2f7eafdb",
   "metadata": {},
   "source": [
    "### Output Formatting"
   ]
  },
  {
   "cell_type": "markdown",
   "id": "ec0d49b1",
   "metadata": {},
   "source": [
    "#### Formatting output using String modulo operator(%)"
   ]
  },
  {
   "cell_type": "code",
   "execution_count": 135,
   "id": "1474c0b2",
   "metadata": {},
   "outputs": [
    {
     "name": "stdout",
     "output_type": "stream",
     "text": [
      "Hello:  12 ,World :5.3356\n"
     ]
    }
   ],
   "source": [
    "print(\"Hello: %3d ,World :%5.4f\"%(12,05.3356))"
   ]
  },
  {
   "cell_type": "markdown",
   "id": "3752ee8e",
   "metadata": {},
   "source": [
    "* The first placeholder “%2d” is used for the first component of our tuple, i.e. the integer 1. The number will be printed with 2 characters. As 1 consists only of one digit, the output is padded with 1 leading blanks.\n",
    "* The second one “%5.2f” is a format description for a float number. Like other placeholders, it is introduced with the % character. This is followed by the total number of digits the string should contain. This number includes the decimal point and all the digits, i.e. before and after the decimal point.\n",
    "* Our float number 05.333 has to be formatted with 5 characters. The decimal part of the number or the precision is set to 2, i.e. the number following the “.” in our placeholder. Finally, the last character “f” of our placeholder stands for “float”."
   ]
  },
  {
   "cell_type": "markdown",
   "id": "94fd1dc9",
   "metadata": {},
   "source": [
    "#### Formatting output using the format method [.format()]"
   ]
  },
  {
   "cell_type": "code",
   "execution_count": 136,
   "id": "ac90f34a",
   "metadata": {},
   "outputs": [
    {
     "name": "stdout",
     "output_type": "stream",
     "text": [
      "Hello World My name is saif\n"
     ]
    }
   ],
   "source": [
    "print(\"Hello {} My name is {}\".format('World','saif'))"
   ]
  },
  {
   "cell_type": "code",
   "execution_count": 137,
   "id": "d12ad5f0",
   "metadata": {},
   "outputs": [
    {
     "name": "stdout",
     "output_type": "stream",
     "text": [
      "Hello saif My name is World\n"
     ]
    }
   ],
   "source": [
    "print(\"Hello {1} My name is {0}\".format('World','saif'))"
   ]
  },
  {
   "cell_type": "code",
   "execution_count": 138,
   "id": "fe9d343c",
   "metadata": {},
   "outputs": [
    {
     "name": "stdout",
     "output_type": "stream",
     "text": [
      "I love Geeks for \"Geeks!\"\n",
      "Geeks and Portal\n"
     ]
    }
   ],
   "source": [
    "print(f\"I love {'Geeks'} for \\\"{'Geeks'}!\\\"\")\n",
    " \n",
    "# using format() method and referring\n",
    "# a position of the object\n",
    "print(f\"{'Geeks'} and {'Portal'}\")"
   ]
  },
  {
   "cell_type": "code",
   "execution_count": 141,
   "id": "9bae5ad9",
   "metadata": {},
   "outputs": [
    {
     "name": "stdout",
     "output_type": "stream",
     "text": [
      "Hello world my name is saif and other person name is manish\n"
     ]
    }
   ],
   "source": [
    "print('Hello {} my name is {} and other person name is {x}'.format('world','saif',x='manish'))"
   ]
  },
  {
   "cell_type": "code",
   "execution_count": 154,
   "id": "9632daba",
   "metadata": {},
   "outputs": [
    {
     "name": "stdout",
     "output_type": "stream",
     "text": [
      "hello : 12,world:     0.55\n"
     ]
    }
   ],
   "source": [
    "print(\"hello : {0:2d},world:{1:9.2f}\".format(12,00.5475))"
   ]
  },
  {
   "cell_type": "markdown",
   "id": "81d622d3",
   "metadata": {},
   "source": [
    "##### Here 0 is position and number after colon is character or spacing and .2 is upto decimal and f is for float"
   ]
  },
  {
   "cell_type": "code",
   "execution_count": 155,
   "id": "64d5705a",
   "metadata": {},
   "outputs": [
    {
     "name": "stdout",
     "output_type": "stream",
     "text": [
      "hello :  420,world:  59.058\n"
     ]
    }
   ],
   "source": [
    "print('hello :{a:5d},world:{b:8.3f}'.format(a=420,b=59.058))"
   ]
  },
  {
   "cell_type": "markdown",
   "id": "08110c0b",
   "metadata": {},
   "source": [
    "#### Python program to show format () is used in dictionary"
   ]
  },
  {
   "cell_type": "code",
   "execution_count": 184,
   "id": "224e4397",
   "metadata": {},
   "outputs": [
    {
     "data": {
      "text/plain": [
       "{'geeks': 445, 'for': 789}"
      ]
     },
     "execution_count": 184,
     "metadata": {},
     "output_type": "execute_result"
    }
   ],
   "source": [
    "tab={\"geeks\":445,\"for\":789}\n",
    "tab"
   ]
  },
  {
   "cell_type": "code",
   "execution_count": 185,
   "id": "39c6d998",
   "metadata": {},
   "outputs": [
    {
     "name": "stdout",
     "output_type": "stream",
     "text": [
      "hello:445; world:789\n"
     ]
    }
   ],
   "source": [
    "print(\"hello:{0[geeks]:d}; world:{0[for]:d}\".format(tab))"
   ]
  },
  {
   "cell_type": "code",
   "execution_count": 186,
   "id": "c8179e3d",
   "metadata": {},
   "outputs": [],
   "source": [
    "data=dict(x=\"hello\",y=\"portal\")"
   ]
  },
  {
   "cell_type": "code",
   "execution_count": 193,
   "id": "2081252e",
   "metadata": {},
   "outputs": [
    {
     "name": "stdout",
     "output_type": "stream",
     "text": [
      "hello hello world portal\n"
     ]
    }
   ],
   "source": [
    "print(\"hello {x} world {y}\".format(**data))"
   ]
  },
  {
   "cell_type": "markdown",
   "id": "daa4cb3f",
   "metadata": {},
   "source": [
    "#### Formatting output using the String method "
   ]
  },
  {
   "cell_type": "code",
   "execution_count": 194,
   "id": "fdd7d7f5",
   "metadata": {},
   "outputs": [],
   "source": [
    "cstr=\"I love myself\""
   ]
  },
  {
   "cell_type": "code",
   "execution_count": 195,
   "id": "1e34b703",
   "metadata": {},
   "outputs": [
    {
     "name": "stdout",
     "output_type": "stream",
     "text": [
      "#############I love myself##############\n"
     ]
    }
   ],
   "source": [
    "print(cstr.center(40,\"#\"))"
   ]
  },
  {
   "cell_type": "code",
   "execution_count": 197,
   "id": "e933bc70",
   "metadata": {},
   "outputs": [
    {
     "name": "stdout",
     "output_type": "stream",
     "text": [
      "I love myself---------------------------\n"
     ]
    }
   ],
   "source": [
    "print(cstr.ljust(40,'-'))"
   ]
  },
  {
   "cell_type": "code",
   "execution_count": 198,
   "id": "8438ddfa",
   "metadata": {},
   "outputs": [
    {
     "name": "stdout",
     "output_type": "stream",
     "text": [
      "---------------------------I love myself\n"
     ]
    }
   ],
   "source": [
    "print(cstr.rjust(40,'-'))"
   ]
  },
  {
   "cell_type": "markdown",
   "id": "fcd5b72e",
   "metadata": {},
   "source": [
    "### Vulnerability in input() method"
   ]
  },
  {
   "cell_type": "markdown",
   "id": "aa488f3e",
   "metadata": {},
   "source": [
    "#### There are two common methods to receive input in Python 2.x:\n",
    "\n",
    "* Using the **input()** function:- This function takes the value and type of the input you enter as it is without modifying any type.\n",
    "* Using the **raw_input()** function :- This function explicitly converts the input you give to type string,"
   ]
  },
  {
   "cell_type": "markdown",
   "id": "384b84d5",
   "metadata": {},
   "source": [
    "#### The vulnerability in input() method lies in the fact that the variable accessing the value of input can be accessed by anyone just by using the name of variable or method. Let’s explore these one by one:"
   ]
  },
  {
   "cell_type": "code",
   "execution_count": null,
   "id": "ffd7cb9c",
   "metadata": {},
   "outputs": [],
   "source": [
    "import random\n",
    "\n",
    "secret_num=random.randint(1,500)\n",
    "#print(\"Secret\",secret_num)\n",
    "print(\"Pick a number between 1 to 500\")\n",
    "while True:\n",
    "    res=input(\"Guess the number :\")\n",
    "    if res==secret_num:\n",
    "        print(\"you win\")\n",
    "        break\n",
    "    else:\n",
    "        print(\"you Lose\")\n",
    "        continue\n",
    "        #print(\"Secret\",secret_num)\n"
   ]
  },
  {
   "cell_type": "code",
   "execution_count": null,
   "id": "1966fd9a",
   "metadata": {},
   "outputs": [],
   "source": []
  },
  {
   "cell_type": "code",
   "execution_count": null,
   "id": "6676cf1e",
   "metadata": {},
   "outputs": [],
   "source": []
  },
  {
   "cell_type": "code",
   "execution_count": null,
   "id": "2b2b9e6a",
   "metadata": {},
   "outputs": [],
   "source": []
  },
  {
   "cell_type": "code",
   "execution_count": null,
   "id": "df3c0760",
   "metadata": {},
   "outputs": [],
   "source": []
  }
 ],
 "metadata": {
  "kernelspec": {
   "display_name": "Python 3 (ipykernel)",
   "language": "python",
   "name": "python3"
  },
  "language_info": {
   "codemirror_mode": {
    "name": "ipython",
    "version": 3
   },
   "file_extension": ".py",
   "mimetype": "text/x-python",
   "name": "python",
   "nbconvert_exporter": "python",
   "pygments_lexer": "ipython3",
   "version": "3.9.7"
  }
 },
 "nbformat": 4,
 "nbformat_minor": 5
}
