{
 "cells": [
  {
   "cell_type": "code",
   "execution_count": 1,
   "metadata": {
    "collapsed": true
   },
   "outputs": [
    {
     "name": "stdout",
     "output_type": "stream",
     "text": [
      "Requirement already satisfied: pandas in c:\\users\\sasai\\anaconda3\\lib\\site-packages (1.2.4)\n",
      "Requirement already satisfied: python-dateutil>=2.7.3 in c:\\users\\sasai\\appdata\\roaming\\python\\python38\\site-packages (from pandas) (2.8.1)\n",
      "Requirement already satisfied: numpy>=1.16.5 in c:\\users\\sasai\\anaconda3\\lib\\site-packages (from pandas) (1.20.2)\n",
      "Requirement already satisfied: pytz>=2017.3 in c:\\users\\sasai\\anaconda3\\lib\\site-packages (from pandas) (2021.1)\n",
      "Requirement already satisfied: six>=1.5 in c:\\users\\sasai\\appdata\\roaming\\python\\python38\\site-packages (from python-dateutil>=2.7.3->pandas) (1.15.0)\n",
      "Requirement already satisfied: scipy in c:\\users\\sasai\\anaconda3\\lib\\site-packages (1.6.2)\n",
      "Requirement already satisfied: numpy<1.23.0,>=1.16.5 in c:\\users\\sasai\\anaconda3\\lib\\site-packages (from scipy) (1.20.2)\n",
      "Requirement already satisfied: stats in c:\\users\\sasai\\anaconda3\\lib\\site-packages (0.1.2a0)\n",
      "Requirement already satisfied: matplotlib in c:\\users\\sasai\\anaconda3\\lib\\site-packages (3.4.1)\n",
      "Requirement already satisfied: kiwisolver>=1.0.1 in c:\\users\\sasai\\anaconda3\\lib\\site-packages (from matplotlib) (1.3.1)\n",
      "Requirement already satisfied: cycler>=0.10 in c:\\users\\sasai\\anaconda3\\lib\\site-packages (from matplotlib) (0.10.0)\n",
      "Requirement already satisfied: pyparsing>=2.2.1 in c:\\users\\sasai\\appdata\\roaming\\python\\python38\\site-packages (from matplotlib) (2.4.7)\n",
      "Requirement already satisfied: numpy>=1.16 in c:\\users\\sasai\\anaconda3\\lib\\site-packages (from matplotlib) (1.20.2)\n",
      "Requirement already satisfied: pillow>=6.2.0 in c:\\users\\sasai\\anaconda3\\lib\\site-packages (from matplotlib) (8.2.0)\n",
      "Requirement already satisfied: python-dateutil>=2.7 in c:\\users\\sasai\\appdata\\roaming\\python\\python38\\site-packages (from matplotlib) (2.8.1)\n",
      "Requirement already satisfied: six in c:\\users\\sasai\\appdata\\roaming\\python\\python38\\site-packages (from cycler>=0.10->matplotlib) (1.15.0)\n",
      "Requirement already satisfied: seaborn in c:\\users\\sasai\\anaconda3\\lib\\site-packages (0.11.1)\n",
      "Requirement already satisfied: pandas>=0.23 in c:\\users\\sasai\\anaconda3\\lib\\site-packages (from seaborn) (1.2.4)\n",
      "Requirement already satisfied: matplotlib>=2.2 in c:\\users\\sasai\\anaconda3\\lib\\site-packages (from seaborn) (3.4.1)\n",
      "Requirement already satisfied: numpy>=1.15 in c:\\users\\sasai\\anaconda3\\lib\\site-packages (from seaborn) (1.20.2)\n",
      "Requirement already satisfied: scipy>=1.0 in c:\\users\\sasai\\anaconda3\\lib\\site-packages (from seaborn) (1.6.2)\n",
      "Requirement already satisfied: kiwisolver>=1.0.1 in c:\\users\\sasai\\anaconda3\\lib\\site-packages (from matplotlib>=2.2->seaborn) (1.3.1)\n",
      "Requirement already satisfied: python-dateutil>=2.7 in c:\\users\\sasai\\appdata\\roaming\\python\\python38\\site-packages (from matplotlib>=2.2->seaborn) (2.8.1)\n",
      "Requirement already satisfied: pyparsing>=2.2.1 in c:\\users\\sasai\\appdata\\roaming\\python\\python38\\site-packages (from matplotlib>=2.2->seaborn) (2.4.7)\n",
      "Requirement already satisfied: pillow>=6.2.0 in c:\\users\\sasai\\anaconda3\\lib\\site-packages (from matplotlib>=2.2->seaborn) (8.2.0)\n",
      "Requirement already satisfied: cycler>=0.10 in c:\\users\\sasai\\anaconda3\\lib\\site-packages (from matplotlib>=2.2->seaborn) (0.10.0)\n",
      "Requirement already satisfied: six in c:\\users\\sasai\\appdata\\roaming\\python\\python38\\site-packages (from cycler>=0.10->matplotlib>=2.2->seaborn) (1.15.0)\n",
      "Requirement already satisfied: pytz>=2017.3 in c:\\users\\sasai\\anaconda3\\lib\\site-packages (from pandas>=0.23->seaborn) (2021.1)\n"
     ]
    }
   ],
   "source": [
    "!pip install pandas\n",
    "!pip install scipy\n",
    "!pip install stats\n",
    "!pip install matplotlib\n",
    "!pip install seaborn"
   ]
  },
  {
   "cell_type": "code",
   "execution_count": 2,
   "metadata": {},
   "outputs": [],
   "source": [
    "import numpy as np\n",
    "from numpy.random import randn\n",
    "import pandas as pd\n",
    "from scipy import stats\n",
    "import matplotlib as mpl\n",
    "import matplotlib.pyplot as plt\n",
    "import seaborn as sns"
   ]
  },
  {
   "cell_type": "code",
   "execution_count": 3,
   "metadata": {},
   "outputs": [],
   "source": [
    "import os\n",
    "os.chdir(\"C:/Users/sasai/Pandas/Hypothesis Testing Data Set\")"
   ]
  },
  {
   "cell_type": "markdown",
   "metadata": {},
   "source": [
    "## Hypothesis testing using T test"
   ]
  },
  {
   "cell_type": "markdown",
   "metadata": {},
   "source": [
    "#### One Sample t test - two sided"
   ]
  },
  {
   "cell_type": "markdown",
   "metadata": {},
   "source": [
    "Question:-The Violet industries produces furniture for home and office use. The production engineer claims that the average number of furniture items produced is 30. Test his claim."
   ]
  },
  {
   "cell_type": "markdown",
   "metadata": {},
   "source": [
    "Solution:-\n",
    "The Hypothesis is:-\n",
    "\n",
    "Ho:The mean Number of items produced my machine A is eqaul to 30,i.e µ=30\n",
    "\n",
    "Against\n",
    "\n",
    "Ha:The mean Number of items produced my machine A is not eqaul to 30,i.e µ≠30         "
   ]
  },
  {
   "cell_type": "code",
   "execution_count": 4,
   "metadata": {},
   "outputs": [
    {
     "data": {
      "text/html": [
       "<div>\n",
       "<style scoped>\n",
       "    .dataframe tbody tr th:only-of-type {\n",
       "        vertical-align: middle;\n",
       "    }\n",
       "\n",
       "    .dataframe tbody tr th {\n",
       "        vertical-align: top;\n",
       "    }\n",
       "\n",
       "    .dataframe thead th {\n",
       "        text-align: right;\n",
       "    }\n",
       "</style>\n",
       "<table border=\"1\" class=\"dataframe\">\n",
       "  <thead>\n",
       "    <tr style=\"text-align: right;\">\n",
       "      <th></th>\n",
       "      <th>Items Produced</th>\n",
       "    </tr>\n",
       "  </thead>\n",
       "  <tbody>\n",
       "    <tr>\n",
       "      <th>0</th>\n",
       "      <td>34</td>\n",
       "    </tr>\n",
       "    <tr>\n",
       "      <th>1</th>\n",
       "      <td>34</td>\n",
       "    </tr>\n",
       "    <tr>\n",
       "      <th>2</th>\n",
       "      <td>23</td>\n",
       "    </tr>\n",
       "    <tr>\n",
       "      <th>3</th>\n",
       "      <td>45</td>\n",
       "    </tr>\n",
       "    <tr>\n",
       "      <th>4</th>\n",
       "      <td>23</td>\n",
       "    </tr>\n",
       "    <tr>\n",
       "      <th>5</th>\n",
       "      <td>45</td>\n",
       "    </tr>\n",
       "    <tr>\n",
       "      <th>6</th>\n",
       "      <td>34</td>\n",
       "    </tr>\n",
       "    <tr>\n",
       "      <th>7</th>\n",
       "      <td>23</td>\n",
       "    </tr>\n",
       "    <tr>\n",
       "      <th>8</th>\n",
       "      <td>37</td>\n",
       "    </tr>\n",
       "    <tr>\n",
       "      <th>9</th>\n",
       "      <td>35</td>\n",
       "    </tr>\n",
       "  </tbody>\n",
       "</table>\n",
       "</div>"
      ],
      "text/plain": [
       "   Items Produced\n",
       "0              34\n",
       "1              34\n",
       "2              23\n",
       "3              45\n",
       "4              23\n",
       "5              45\n",
       "6              34\n",
       "7              23\n",
       "8              37\n",
       "9              35"
      ]
     },
     "execution_count": 4,
     "metadata": {},
     "output_type": "execute_result"
    }
   ],
   "source": [
    "df_production=pd.read_csv('Production.csv')\n",
    "\n",
    "df_production"
   ]
  },
  {
   "cell_type": "code",
   "execution_count": 5,
   "metadata": {},
   "outputs": [
    {
     "data": {
      "text/plain": [
       "Ttest_1sampResult(statistic=1.2674612253287467, pvalue=0.23680061493494728)"
      ]
     },
     "execution_count": 5,
     "metadata": {},
     "output_type": "execute_result"
    }
   ],
   "source": [
    "from scipy.stats import ttest_1samp\n",
    "\n",
    "ttest_1samp(df_production[\"Items Produced\"],30)"
   ]
  },
  {
   "cell_type": "markdown",
   "metadata": {},
   "source": [
    "#### One Sample t test - One Sided"
   ]
  },
  {
   "cell_type": "markdown",
   "metadata": {},
   "source": [
    "Question:-The Blaze Industries Pvt. Ltd. claims that their manufactured electric bulbs have a life of 45000 hrs. Test the their claim at 5% level of significance."
   ]
  },
  {
   "cell_type": "markdown",
   "metadata": {},
   "source": [
    "Solution:\n",
    "\n",
    "We can test the claim such the life of bulb is not equal to 45000.\n",
    "However, it would be more meaningful to test for life of bulbs is less than 45000 hours since it would justify the claim is false.\n",
    "If the life is more than 45000 hours the claim would be stronger. \n",
    "Thus we conduct a lower tail test\n",
    "By default the in python the level of significance is 5%.\n",
    "\n",
    "The Hypothesis is:-\n",
    "\n",
    "Ho:The mean Life of bulb in hours is eqaul to 45000,i.e µ=45000\n",
    "\n",
    "Against\n",
    "\n",
    "Ha:The mean Life of bulb in hours is less than or eqaul to 45000,i.e µ≠45000"
   ]
  },
  {
   "cell_type": "code",
   "execution_count": 6,
   "metadata": {},
   "outputs": [
    {
     "data": {
      "text/plain": [
       "0.022628491566062506"
      ]
     },
     "execution_count": 6,
     "metadata": {},
     "output_type": "execute_result"
    }
   ],
   "source": [
    "df_lifeSpan=pd.read_csv(\"LifeSpan.csv\")\n",
    "df_lifeSpan\n",
    "\n",
    "t_test_less=ttest_1samp(df_lifeSpan[\"life\"],45000)\n",
    "\n",
    "p_Value_less=t_test_less.pvalue/2\n",
    "\n",
    "p_Value_less"
   ]
  },
  {
   "cell_type": "markdown",
   "metadata": {},
   "source": [
    "#### Two-Sample t-Test for Mean "
   ]
  },
  {
   "cell_type": "markdown",
   "metadata": {},
   "source": [
    "Question:-The department of transportation of UK considers sample of 6 metro cities in UK and collect the data on average number of road accidents in two year, before and after pandemic. Transportation ministry believes that there is significant difference in average number of road accidents in year 2019 and 2020 after lockdown in pandemic situation . Assume that the difference between two samples follow normal distribution."
   ]
  },
  {
   "cell_type": "code",
   "execution_count": 7,
   "metadata": {},
   "outputs": [
    {
     "data": {
      "text/html": [
       "<div>\n",
       "<style scoped>\n",
       "    .dataframe tbody tr th:only-of-type {\n",
       "        vertical-align: middle;\n",
       "    }\n",
       "\n",
       "    .dataframe tbody tr th {\n",
       "        vertical-align: top;\n",
       "    }\n",
       "\n",
       "    .dataframe thead th {\n",
       "        text-align: right;\n",
       "    }\n",
       "</style>\n",
       "<table border=\"1\" class=\"dataframe\">\n",
       "  <thead>\n",
       "    <tr style=\"text-align: right;\">\n",
       "      <th></th>\n",
       "      <th>Average of\\nRoad accidents in \\nmonth of 2018 (�1)</th>\n",
       "      <th>Average of\\nRoad accidents in \\nmonth of 2019 (�2)</th>\n",
       "    </tr>\n",
       "  </thead>\n",
       "  <tbody>\n",
       "    <tr>\n",
       "      <th>0</th>\n",
       "      <td>120</td>\n",
       "      <td>139</td>\n",
       "    </tr>\n",
       "    <tr>\n",
       "      <th>1</th>\n",
       "      <td>142</td>\n",
       "      <td>123</td>\n",
       "    </tr>\n",
       "    <tr>\n",
       "      <th>2</th>\n",
       "      <td>105</td>\n",
       "      <td>89</td>\n",
       "    </tr>\n",
       "    <tr>\n",
       "      <th>3</th>\n",
       "      <td>167</td>\n",
       "      <td>144</td>\n",
       "    </tr>\n",
       "    <tr>\n",
       "      <th>4</th>\n",
       "      <td>109</td>\n",
       "      <td>97</td>\n",
       "    </tr>\n",
       "    <tr>\n",
       "      <th>5</th>\n",
       "      <td>94</td>\n",
       "      <td>68</td>\n",
       "    </tr>\n",
       "  </tbody>\n",
       "</table>\n",
       "</div>"
      ],
      "text/plain": [
       "   Average of\\nRoad accidents in \\nmonth of 2018 (�1)  \\\n",
       "0                                                120    \n",
       "1                                                142    \n",
       "2                                                105    \n",
       "3                                                167    \n",
       "4                                                109    \n",
       "5                                                 94    \n",
       "\n",
       "   Average of\\nRoad accidents in \\nmonth of 2019 (�2)  \n",
       "0                                                139   \n",
       "1                                                123   \n",
       "2                                                 89   \n",
       "3                                                144   \n",
       "4                                                 97   \n",
       "5                                                 68   "
      ]
     },
     "execution_count": 7,
     "metadata": {},
     "output_type": "execute_result"
    }
   ],
   "source": [
    "df_road_accident=pd.read_csv(\"road_accident.csv\")\n",
    "\n",
    "df_road_accident"
   ]
  },
  {
   "cell_type": "code",
   "execution_count": 8,
   "metadata": {},
   "outputs": [
    {
     "data": {
      "text/plain": [
       "Ttest_indResult(statistic=0.7759116903877894, pvalue=0.4557597290620905)"
      ]
     },
     "execution_count": 8,
     "metadata": {},
     "output_type": "execute_result"
    }
   ],
   "source": [
    "from scipy.stats import ttest_ind\n",
    "\n",
    "ttest_ind(df_road_accident[\"Average of\\nRoad accidents in \\nmonth of 2018 (�1)\"],df_road_accident[\"Average of\\nRoad accidents in \\nmonth of 2019 (�2)\"])"
   ]
  },
  {
   "cell_type": "markdown",
   "metadata": {},
   "source": [
    "Question:-In a pig farm, to increase the weight of the pigs two different diets were given. The data for gain in weight is as given. Test whether the two diets differ significantly regarding their effect on increase in weight.\n",
    "\n",
    "Solution:\n",
    "\n",
    "The Hypothesis is:-\n",
    "\n",
    "Ho:The average gain in weight due to diet A is eqaul to average gain in weight due to diet B,i.e µA=µB\n",
    "\n",
    "Against\n",
    "\n",
    "Ha:The average gain in weight due to diet A is not eqaul to average gain in weight due to diet B,i.e µA≠µB"
   ]
  },
  {
   "cell_type": "code",
   "execution_count": 9,
   "metadata": {},
   "outputs": [
    {
     "data": {
      "text/html": [
       "<div>\n",
       "<style scoped>\n",
       "    .dataframe tbody tr th:only-of-type {\n",
       "        vertical-align: middle;\n",
       "    }\n",
       "\n",
       "    .dataframe tbody tr th {\n",
       "        vertical-align: top;\n",
       "    }\n",
       "\n",
       "    .dataframe thead th {\n",
       "        text-align: right;\n",
       "    }\n",
       "</style>\n",
       "<table border=\"1\" class=\"dataframe\">\n",
       "  <thead>\n",
       "    <tr style=\"text-align: right;\">\n",
       "      <th></th>\n",
       "      <th>Diet A</th>\n",
       "      <th>Diet B</th>\n",
       "    </tr>\n",
       "  </thead>\n",
       "  <tbody>\n",
       "    <tr>\n",
       "      <th>0</th>\n",
       "      <td>45</td>\n",
       "      <td>45</td>\n",
       "    </tr>\n",
       "    <tr>\n",
       "      <th>1</th>\n",
       "      <td>34</td>\n",
       "      <td>35</td>\n",
       "    </tr>\n",
       "    <tr>\n",
       "      <th>2</th>\n",
       "      <td>46</td>\n",
       "      <td>32</td>\n",
       "    </tr>\n",
       "    <tr>\n",
       "      <th>3</th>\n",
       "      <td>23</td>\n",
       "      <td>47</td>\n",
       "    </tr>\n",
       "    <tr>\n",
       "      <th>4</th>\n",
       "      <td>67</td>\n",
       "      <td>37</td>\n",
       "    </tr>\n",
       "    <tr>\n",
       "      <th>5</th>\n",
       "      <td>45</td>\n",
       "      <td>51</td>\n",
       "    </tr>\n",
       "    <tr>\n",
       "      <th>6</th>\n",
       "      <td>65</td>\n",
       "      <td>42</td>\n",
       "    </tr>\n",
       "    <tr>\n",
       "      <th>7</th>\n",
       "      <td>23</td>\n",
       "      <td>38</td>\n",
       "    </tr>\n",
       "    <tr>\n",
       "      <th>8</th>\n",
       "      <td>65</td>\n",
       "      <td>32</td>\n",
       "    </tr>\n",
       "    <tr>\n",
       "      <th>9</th>\n",
       "      <td>23</td>\n",
       "      <td>46</td>\n",
       "    </tr>\n",
       "  </tbody>\n",
       "</table>\n",
       "</div>"
      ],
      "text/plain": [
       "   Diet A  Diet B\n",
       "0      45      45\n",
       "1      34      35\n",
       "2      46      32\n",
       "3      23      47\n",
       "4      67      37\n",
       "5      45      51\n",
       "6      65      42\n",
       "7      23      38\n",
       "8      65      32\n",
       "9      23      46"
      ]
     },
     "execution_count": 9,
     "metadata": {},
     "output_type": "execute_result"
    }
   ],
   "source": [
    "df_diet=pd.read_csv(\"Diet_data.csv\")\n",
    "\n",
    "df_diet"
   ]
  },
  {
   "cell_type": "code",
   "execution_count": 10,
   "metadata": {},
   "outputs": [
    {
     "data": {
      "text/plain": [
       "Ttest_indResult(statistic=0.5169140149580205, pvalue=0.6115094596012607)"
      ]
     },
     "execution_count": 10,
     "metadata": {},
     "output_type": "execute_result"
    }
   ],
   "source": [
    "from scipy.stats import ttest_ind\n",
    "\n",
    "ttest_ind(df_diet[\"Diet A\"],df_diet[\"Diet B\"])"
   ]
  },
  {
   "cell_type": "markdown",
   "metadata": {},
   "source": [
    "Question:\n",
    "\n",
    "An pharma company claims to have have produced a new drug which improves sleep of 18 year old teenagers. The hours of sleep for 10 teenagers before and after the giving the new drug is recorded. Test whether there is a significant difference in the average hours of sleep.\n",
    "\n",
    "Solution:\n",
    "\n",
    "The Hypothesis is:-\n",
    "\n",
    "Ho:The average Hours of sleep before medication is equal to the average hours of sleep after medication,i.e µA=µB\n",
    "\n",
    "Against\n",
    "\n",
    "Ha:The average Hours of sleep before medication is not equal to the average hours of sleep after medication ,i.e µA≠µB"
   ]
  },
  {
   "cell_type": "code",
   "execution_count": 11,
   "metadata": {},
   "outputs": [
    {
     "data": {
      "text/html": [
       "<div>\n",
       "<style scoped>\n",
       "    .dataframe tbody tr th:only-of-type {\n",
       "        vertical-align: middle;\n",
       "    }\n",
       "\n",
       "    .dataframe tbody tr th {\n",
       "        vertical-align: top;\n",
       "    }\n",
       "\n",
       "    .dataframe thead th {\n",
       "        text-align: right;\n",
       "    }\n",
       "</style>\n",
       "<table border=\"1\" class=\"dataframe\">\n",
       "  <thead>\n",
       "    <tr style=\"text-align: right;\">\n",
       "      <th></th>\n",
       "      <th>Hours of Sleep (Before)</th>\n",
       "      <th>Hours of Sleep (After)</th>\n",
       "    </tr>\n",
       "  </thead>\n",
       "  <tbody>\n",
       "    <tr>\n",
       "      <th>0</th>\n",
       "      <td>5.0</td>\n",
       "      <td>7.0</td>\n",
       "    </tr>\n",
       "    <tr>\n",
       "      <th>1</th>\n",
       "      <td>6.0</td>\n",
       "      <td>7.5</td>\n",
       "    </tr>\n",
       "    <tr>\n",
       "      <th>2</th>\n",
       "      <td>6.5</td>\n",
       "      <td>9.0</td>\n",
       "    </tr>\n",
       "    <tr>\n",
       "      <th>3</th>\n",
       "      <td>5.5</td>\n",
       "      <td>7.0</td>\n",
       "    </tr>\n",
       "    <tr>\n",
       "      <th>4</th>\n",
       "      <td>6.5</td>\n",
       "      <td>8.0</td>\n",
       "    </tr>\n",
       "    <tr>\n",
       "      <th>5</th>\n",
       "      <td>7.0</td>\n",
       "      <td>7.5</td>\n",
       "    </tr>\n",
       "    <tr>\n",
       "      <th>6</th>\n",
       "      <td>8.0</td>\n",
       "      <td>7.0</td>\n",
       "    </tr>\n",
       "    <tr>\n",
       "      <th>7</th>\n",
       "      <td>7.5</td>\n",
       "      <td>7.0</td>\n",
       "    </tr>\n",
       "    <tr>\n",
       "      <th>8</th>\n",
       "      <td>6.0</td>\n",
       "      <td>7.0</td>\n",
       "    </tr>\n",
       "    <tr>\n",
       "      <th>9</th>\n",
       "      <td>7.0</td>\n",
       "      <td>6.5</td>\n",
       "    </tr>\n",
       "  </tbody>\n",
       "</table>\n",
       "</div>"
      ],
      "text/plain": [
       "   Hours of Sleep (Before)  Hours of Sleep (After)\n",
       "0                      5.0                     7.0\n",
       "1                      6.0                     7.5\n",
       "2                      6.5                     9.0\n",
       "3                      5.5                     7.0\n",
       "4                      6.5                     8.0\n",
       "5                      7.0                     7.5\n",
       "6                      8.0                     7.0\n",
       "7                      7.5                     7.0\n",
       "8                      6.0                     7.0\n",
       "9                      7.0                     6.5"
      ]
     },
     "execution_count": 11,
     "metadata": {},
     "output_type": "execute_result"
    }
   ],
   "source": [
    "df_Sleep=pd.read_csv(\"Sleep_data.csv\")\n",
    "\n",
    "df_Sleep"
   ]
  },
  {
   "cell_type": "code",
   "execution_count": 12,
   "metadata": {},
   "outputs": [
    {
     "data": {
      "text/plain": [
       "Ttest_relResult(statistic=-2.2785119632047284, pvalue=0.048680802344322635)"
      ]
     },
     "execution_count": 12,
     "metadata": {},
     "output_type": "execute_result"
    }
   ],
   "source": [
    "from scipy.stats import ttest_rel\n",
    "\n",
    "ttest_rel(df_Sleep['Hours of Sleep (Before)'],df_Sleep['Hours of Sleep (After)'])"
   ]
  },
  {
   "cell_type": "markdown",
   "metadata": {},
   "source": [
    "## Hypothesis testing using Z-test\n",
    "#### One Sample Test"
   ]
  },
  {
   "cell_type": "markdown",
   "metadata": {},
   "source": [
    "Question:\n",
    "A random sample of 40 glass rods is taken from a lot manufactured under a new process. They are tested for their breaking strength. Can we claim that the breaking strength is equal to 55 lbs?\n",
    "\n",
    "Solution:\n",
    "The Hypothesis is \n",
    "Ho:The mean the breaking strength of the glass rod is equal to 55, i.e µ=55\n",
    "Ha:The mean the breaking strength of the glass rod is equal to 55, i.e µ≠55"
   ]
  },
  {
   "cell_type": "code",
   "execution_count": 13,
   "metadata": {},
   "outputs": [
    {
     "data": {
      "text/html": [
       "<div>\n",
       "<style scoped>\n",
       "    .dataframe tbody tr th:only-of-type {\n",
       "        vertical-align: middle;\n",
       "    }\n",
       "\n",
       "    .dataframe tbody tr th {\n",
       "        vertical-align: top;\n",
       "    }\n",
       "\n",
       "    .dataframe thead th {\n",
       "        text-align: right;\n",
       "    }\n",
       "</style>\n",
       "<table border=\"1\" class=\"dataframe\">\n",
       "  <thead>\n",
       "    <tr style=\"text-align: right;\">\n",
       "      <th></th>\n",
       "      <th>Strength</th>\n",
       "    </tr>\n",
       "  </thead>\n",
       "  <tbody>\n",
       "    <tr>\n",
       "      <th>0</th>\n",
       "      <td>48.6</td>\n",
       "    </tr>\n",
       "    <tr>\n",
       "      <th>1</th>\n",
       "      <td>38.8</td>\n",
       "    </tr>\n",
       "    <tr>\n",
       "      <th>2</th>\n",
       "      <td>52.6</td>\n",
       "    </tr>\n",
       "    <tr>\n",
       "      <th>3</th>\n",
       "      <td>48.0</td>\n",
       "    </tr>\n",
       "    <tr>\n",
       "      <th>4</th>\n",
       "      <td>60.2</td>\n",
       "    </tr>\n",
       "    <tr>\n",
       "      <th>5</th>\n",
       "      <td>54.6</td>\n",
       "    </tr>\n",
       "    <tr>\n",
       "      <th>6</th>\n",
       "      <td>42.7</td>\n",
       "    </tr>\n",
       "    <tr>\n",
       "      <th>7</th>\n",
       "      <td>42.1</td>\n",
       "    </tr>\n",
       "    <tr>\n",
       "      <th>8</th>\n",
       "      <td>49.8</td>\n",
       "    </tr>\n",
       "    <tr>\n",
       "      <th>9</th>\n",
       "      <td>57.8</td>\n",
       "    </tr>\n",
       "    <tr>\n",
       "      <th>10</th>\n",
       "      <td>57.9</td>\n",
       "    </tr>\n",
       "    <tr>\n",
       "      <th>11</th>\n",
       "      <td>46.4</td>\n",
       "    </tr>\n",
       "    <tr>\n",
       "      <th>12</th>\n",
       "      <td>52.5</td>\n",
       "    </tr>\n",
       "    <tr>\n",
       "      <th>13</th>\n",
       "      <td>55.5</td>\n",
       "    </tr>\n",
       "    <tr>\n",
       "      <th>14</th>\n",
       "      <td>53.5</td>\n",
       "    </tr>\n",
       "    <tr>\n",
       "      <th>15</th>\n",
       "      <td>54.9</td>\n",
       "    </tr>\n",
       "    <tr>\n",
       "      <th>16</th>\n",
       "      <td>58.8</td>\n",
       "    </tr>\n",
       "    <tr>\n",
       "      <th>17</th>\n",
       "      <td>41.8</td>\n",
       "    </tr>\n",
       "    <tr>\n",
       "      <th>18</th>\n",
       "      <td>58.6</td>\n",
       "    </tr>\n",
       "    <tr>\n",
       "      <th>19</th>\n",
       "      <td>48.7</td>\n",
       "    </tr>\n",
       "    <tr>\n",
       "      <th>20</th>\n",
       "      <td>55.0</td>\n",
       "    </tr>\n",
       "    <tr>\n",
       "      <th>21</th>\n",
       "      <td>50.2</td>\n",
       "    </tr>\n",
       "    <tr>\n",
       "      <th>22</th>\n",
       "      <td>57.0</td>\n",
       "    </tr>\n",
       "    <tr>\n",
       "      <th>23</th>\n",
       "      <td>51.2</td>\n",
       "    </tr>\n",
       "    <tr>\n",
       "      <th>24</th>\n",
       "      <td>39.5</td>\n",
       "    </tr>\n",
       "    <tr>\n",
       "      <th>25</th>\n",
       "      <td>58.2</td>\n",
       "    </tr>\n",
       "    <tr>\n",
       "      <th>26</th>\n",
       "      <td>46.8</td>\n",
       "    </tr>\n",
       "    <tr>\n",
       "      <th>27</th>\n",
       "      <td>38.0</td>\n",
       "    </tr>\n",
       "    <tr>\n",
       "      <th>28</th>\n",
       "      <td>56.6</td>\n",
       "    </tr>\n",
       "    <tr>\n",
       "      <th>29</th>\n",
       "      <td>41.0</td>\n",
       "    </tr>\n",
       "    <tr>\n",
       "      <th>30</th>\n",
       "      <td>54.8</td>\n",
       "    </tr>\n",
       "    <tr>\n",
       "      <th>31</th>\n",
       "      <td>55.6</td>\n",
       "    </tr>\n",
       "    <tr>\n",
       "      <th>32</th>\n",
       "      <td>58.4</td>\n",
       "    </tr>\n",
       "    <tr>\n",
       "      <th>33</th>\n",
       "      <td>45.0</td>\n",
       "    </tr>\n",
       "    <tr>\n",
       "      <th>34</th>\n",
       "      <td>42.8</td>\n",
       "    </tr>\n",
       "    <tr>\n",
       "      <th>35</th>\n",
       "      <td>54.8</td>\n",
       "    </tr>\n",
       "    <tr>\n",
       "      <th>36</th>\n",
       "      <td>45.7</td>\n",
       "    </tr>\n",
       "    <tr>\n",
       "      <th>37</th>\n",
       "      <td>44.3</td>\n",
       "    </tr>\n",
       "    <tr>\n",
       "      <th>38</th>\n",
       "      <td>38.4</td>\n",
       "    </tr>\n",
       "    <tr>\n",
       "      <th>39</th>\n",
       "      <td>54.3</td>\n",
       "    </tr>\n",
       "  </tbody>\n",
       "</table>\n",
       "</div>"
      ],
      "text/plain": [
       "    Strength\n",
       "0       48.6\n",
       "1       38.8\n",
       "2       52.6\n",
       "3       48.0\n",
       "4       60.2\n",
       "5       54.6\n",
       "6       42.7\n",
       "7       42.1\n",
       "8       49.8\n",
       "9       57.8\n",
       "10      57.9\n",
       "11      46.4\n",
       "12      52.5\n",
       "13      55.5\n",
       "14      53.5\n",
       "15      54.9\n",
       "16      58.8\n",
       "17      41.8\n",
       "18      58.6\n",
       "19      48.7\n",
       "20      55.0\n",
       "21      50.2\n",
       "22      57.0\n",
       "23      51.2\n",
       "24      39.5\n",
       "25      58.2\n",
       "26      46.8\n",
       "27      38.0\n",
       "28      56.6\n",
       "29      41.0\n",
       "30      54.8\n",
       "31      55.6\n",
       "32      58.4\n",
       "33      45.0\n",
       "34      42.8\n",
       "35      54.8\n",
       "36      45.7\n",
       "37      44.3\n",
       "38      38.4\n",
       "39      54.3"
      ]
     },
     "execution_count": 13,
     "metadata": {},
     "output_type": "execute_result"
    }
   ],
   "source": [
    "df_Strength=pd.read_csv(\"Strength.csv\")\n",
    "\n",
    "df_Strength"
   ]
  },
  {
   "cell_type": "code",
   "execution_count": 14,
   "metadata": {},
   "outputs": [
    {
     "data": {
      "text/plain": [
       "(-4.431740748679182, 9.347536680921983e-06)"
      ]
     },
     "execution_count": 14,
     "metadata": {},
     "output_type": "execute_result"
    }
   ],
   "source": [
    "from statsmodels.stats import weightstats as stests\n",
    "\n",
    "stests.ztest(df_Strength['Strength'], value=55)"
   ]
  },
  {
   "cell_type": "markdown",
   "metadata": {},
   "source": [
    "p-value is less than 0.05,hence we reject ho"
   ]
  },
  {
   "cell_type": "markdown",
   "metadata": {},
   "source": [
    "####  Two Sample Test"
   ]
  },
  {
   "cell_type": "markdown",
   "metadata": {},
   "source": [
    "Question:\n",
    "Two types of fertilizers are tested on farm lands of the same size. The yields in quintals are given below. Can we conclude that the two fertilizers have the same yield?\n",
    "\n",
    "Solution:\n",
    "Ho:The Average yeild due to fertilizer 1 is equal to the average yeild due to fertilizer 2, i.e µA=µB\n",
    "\n",
    "Against\n",
    "\n",
    "Ha:The Average yeild due to fertilizer 1 is equal to the average yeild due to fertilizer 2, i.e µA≠µB "
   ]
  },
  {
   "cell_type": "code",
   "execution_count": 15,
   "metadata": {},
   "outputs": [
    {
     "data": {
      "text/plain": [
       "(-1.1390306751872912, 0.25469036008906554)"
      ]
     },
     "execution_count": 15,
     "metadata": {},
     "output_type": "execute_result"
    }
   ],
   "source": [
    "df_Fertilizer=pd.read_csv(\"Fertilizer.csv\")\n",
    "\n",
    "from statsmodels.stats import weightstats as stests\n",
    "\n",
    "stests.ztest(df_Fertilizer['Fertilizer 1'],x2=df_Fertilizer['Fertilizer 2'])"
   ]
  },
  {
   "cell_type": "markdown",
   "metadata": {},
   "source": [
    "p-value is more than 0.05 , Hence we accept Ho."
   ]
  },
  {
   "cell_type": "markdown",
   "metadata": {},
   "source": [
    "# Test for Normality of Data  "
   ]
  },
  {
   "cell_type": "markdown",
   "metadata": {},
   "source": [
    "### Shapiro-Wilk test"
   ]
  },
  {
   "cell_type": "code",
   "execution_count": 16,
   "metadata": {},
   "outputs": [
    {
     "data": {
      "text/plain": [
       "array([ 3.43303921, 48.56154336, 60.85063683, 34.78523404, 58.65321887,\n",
       "       95.31690304,  8.12509497, 55.12426866, 98.46584828, 41.7989579 ,\n",
       "        0.18264564, 81.79704781, 46.40502855, 36.23503615, 90.58033963,\n",
       "       90.11697771, 39.28620053, 76.28467196, 39.56806362, 63.13128476,\n",
       "       76.1331859 , 88.53144649, 48.76116384, 74.22483832, 31.94175594,\n",
       "       17.59551184, 48.26512102, 30.09227322,  1.29177428, 29.2496451 ,\n",
       "       76.3076748 , 35.17104237, 22.50234404, 54.55481574, 78.0106427 ,\n",
       "       79.18765271, 58.31642617, 81.21854031, 66.57644164, 26.25632579,\n",
       "       10.61183461, 43.5673031 , 20.34053398, 45.3648831 , 42.79628206,\n",
       "       31.72357881, 61.61300417, 46.06523002, 56.42651512, 58.10670128,\n",
       "       91.23053473, 56.68335122, 32.25434777, 44.08636251,  3.33729962,\n",
       "       35.03346523, 61.79848449, 17.03047348, 17.52295678, 81.78072016,\n",
       "        5.81747344,  9.95992542, 89.4137259 , 67.38663691, 14.87959357,\n",
       "        0.9892672 , 26.61290666, 84.09769015, 63.17148546, 46.12851583,\n",
       "        1.55795334, 34.47957635, 97.32910841, 87.66578156, 73.2180861 ,\n",
       "       81.53084343, 74.15484463,  4.80762874, 80.49772754, 29.42285804,\n",
       "       44.19295245, 30.04973075, 12.31659199,  5.42150053, 64.44460039,\n",
       "       73.86462115, 28.8107427 , 67.67419998, 58.81323765, 77.68965606,\n",
       "        2.3904997 , 66.11549684, 44.01066226, 96.83314107, 14.993586  ,\n",
       "       51.87016389, 32.78437444, 81.35215584,  7.94959689, 61.83723296,\n",
       "        6.27459614, 57.17523269, 90.44508531, 32.6293298 , 74.69071631,\n",
       "       61.76931345, 73.84445747, 59.24244704, 81.91276475, 87.15308025,\n",
       "       89.18316591,  8.38178715, 82.08532623, 98.85312069, 24.85826978,\n",
       "        9.50401371, 98.58068128, 35.73979715, 89.24023395, 90.18212135,\n",
       "       48.30397919, 39.76828424, 72.69693416, 64.40098428,  3.22010278,\n",
       "       11.47074966, 44.92452982, 11.45353613, 66.61675606, 69.30650832,\n",
       "        2.17998172, 20.26918807, 81.6434535 ,  5.21463265, 60.47070597,\n",
       "       93.50193379, 74.81070453, 51.59409177, 93.88811895, 73.59317826,\n",
       "       90.57612812, 66.54585424, 19.86552489,  6.46051727, 59.47418803,\n",
       "       46.46897788, 26.49477859, 45.45032231, 39.90319656, 23.67268255,\n",
       "       88.20964636, 40.81578925, 92.71718435, 39.31807058, 13.895061  ,\n",
       "       24.14203382, 45.32341222, 54.03039695, 20.42807668, 20.12028203,\n",
       "       76.03794989, 68.22907583, 66.94889914, 90.12251479, 67.74350955,\n",
       "       34.39866748, 51.0360926 , 42.20241974, 35.62373164, 25.76640637,\n",
       "       14.65134067, 79.84249946, 36.31374453, 14.67566286, 93.24157515,\n",
       "       43.76305522, 76.61288192, 61.81741606, 56.33937255, 86.28989989,\n",
       "        8.21546821, 51.7374817 , 13.04743393, 93.43015664, 82.78487336,\n",
       "       92.72859639,  4.92044897, 88.48189651, 93.31741732, 27.16571164,\n",
       "       64.79118727, 89.82645063, 36.59868054, 82.39736226, 42.83691709,\n",
       "       47.45950519, 80.74354771, 99.99143649, 53.34569285, 19.07979836])"
      ]
     },
     "execution_count": 16,
     "metadata": {},
     "output_type": "execute_result"
    }
   ],
   "source": [
    "#Create the data by generating a random sample\n",
    "rainfall_in_mm=np.random.random(200)*100\n",
    "rainfall_in_mm"
   ]
  },
  {
   "cell_type": "markdown",
   "metadata": {},
   "source": [
    "The null and alternate hypothesis of Shapiro-Wilk test are as follows:\n",
    "\n",
    "Ho:The data is normally distributed. \n",
    "#### Against\n",
    "Ha:The data is normally distributed."
   ]
  },
  {
   "cell_type": "code",
   "execution_count": 17,
   "metadata": {},
   "outputs": [
    {
     "name": "stdout",
     "output_type": "stream",
     "text": [
      "The test statistics is 0.9536048173904419 and its p-value is 4.267559233994689e-06\n"
     ]
    }
   ],
   "source": [
    "#import Shapiro from the scipy library\n",
    "from scipy.stats import shapiro\n",
    "\n",
    "#Conduct the normality test\n",
    "stat,p=shapiro(rainfall_in_mm)\n",
    "\n",
    "print(\"The test statistics is\",stat,\"and its p-value is\",p)"
   ]
  },
  {
   "cell_type": "markdown",
   "metadata": {},
   "source": [
    "### Jarque-Bera test"
   ]
  },
  {
   "cell_type": "code",
   "execution_count": 18,
   "metadata": {},
   "outputs": [
    {
     "data": {
      "text/plain": [
       "array([9.98626127, 8.37970876, 9.25365636, ..., 9.05999461, 8.52694434,\n",
       "       8.67335476])"
      ]
     },
     "execution_count": 18,
     "metadata": {},
     "output_type": "execute_result"
    }
   ],
   "source": [
    "#Create the data by generating a random sample\n",
    "diameter_in_mm=np.random.normal(loc=4,scale=0.7,size=6000)+np.random.normal(loc=5,scale=0.1,size=6000)\n",
    "diameter_in_mm"
   ]
  },
  {
   "cell_type": "markdown",
   "metadata": {},
   "source": [
    "The null and alternate hypothesis of jarque-bera test are as follows:\n",
    "    Ho:The data is normally distributed.\n",
    "   #### Against\n",
    "   Ha:The data is not normally distributed."
   ]
  },
  {
   "cell_type": "code",
   "execution_count": 19,
   "metadata": {},
   "outputs": [
    {
     "name": "stdout",
     "output_type": "stream",
     "text": [
      "The test statistics is 5.98243435666507 and its p-value is 0.05022626518110351\n"
     ]
    }
   ],
   "source": [
    "#import jarque from the scipy library\n",
    "from scipy.stats import jarque_bera\n",
    "\n",
    "#Conduct the normality test\n",
    "stat,p=jarque_bera(diameter_in_mm)\n",
    "\n",
    "print(\"The test statistics is\",stat,\"and its p-value is\",p)"
   ]
  },
  {
   "cell_type": "code",
   "execution_count": null,
   "metadata": {},
   "outputs": [],
   "source": []
  }
 ],
 "metadata": {
  "kernelspec": {
   "display_name": "Python 3",
   "language": "python",
   "name": "python3"
  },
  "language_info": {
   "codemirror_mode": {
    "name": "ipython",
    "version": 3
   },
   "file_extension": ".py",
   "mimetype": "text/x-python",
   "name": "python",
   "nbconvert_exporter": "python",
   "pygments_lexer": "ipython3",
   "version": "3.8.5"
  }
 },
 "nbformat": 4,
 "nbformat_minor": 4
}
