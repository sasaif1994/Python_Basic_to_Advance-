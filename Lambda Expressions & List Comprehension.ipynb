{
 "cells": [
  {
   "cell_type": "markdown",
   "metadata": {},
   "source": [
    "# <center> Python Lambda Expression & List Comprehension\n",
    "In Python , an anonymous function means that a function is without a name.As we already know that def keyword is used to define a normal function in Python. Similarly,the Lambda Keyword is used to define an anonymous function in python.it has the following syntax:\n",
    "\n",
    "Syntax:Lambda Arugument: expression\n",
    "\n",
    "This function can have any number of arguments but only one expression, which is evaluted and returned. One is free to use lambda function wherever function objects are required. You need to keep in your knowledge that lambda function are syntactically restricted to a single expression.It has various uses in particular fields of prgramming besides other types of expression in functions.\n"
   ]
  },
  {
   "cell_type": "code",
   "execution_count": 3,
   "metadata": {},
   "outputs": [
    {
     "name": "stdout",
     "output_type": "stream",
     "text": [
      "125\n",
      "125\n"
     ]
    }
   ],
   "source": [
    "# python code to illustrate cube of a number \n",
    "#showing difference between def() and lambda().\n",
    "def cube(y):\n",
    "        return y*y*y\n",
    "    \n",
    "lambda_cube=lambda y:y*y*y\n",
    "\n",
    "# using the normally\n",
    "#define function\n",
    "print(cube(5))\n",
    "\n",
    "#using the lambda function\n",
    "print(lambda_cube(5))"
   ]
  },
  {
   "cell_type": "markdown",
   "metadata": {},
   "source": [
    "As we can see in the above example both the cube() function and lambda_cube() function behave the same and as intended.Let's analyze the above example a bit more:\n",
    "\n",
    "Without using Lambda: Here,both of them return the cube of a given number.But,while using def, we needed to define a function with a name cube and needed to pass a value to it.After execution,we also needed to return the result from where the function was called using the return Keyword.\n",
    "\n",
    "Using Lambda: Lambda definition does not include a \"return\" statement.it always contains an expression that is returned . we can also put a lambda definition anywhere a function is expected , and we don't have to assign it to a variable at all.This is the simplicity of lambda functions.lambda function can be used along with built-in functions like filter(),map() and reduce()."
   ]
  },
  {
   "cell_type": "markdown",
   "metadata": {},
   "source": [
    "### <center> Lambda Function with Filter\n",
    "Using lambda() FUnction with filter().The filter() function in python takes in a function and a list as aruguments.This offers an elegant way to filter out all the elements of a sequence\"sequence\", for which the function returns True.Here is a small program that returns the odd numbers from an input lists:"
   ]
  },
  {
   "cell_type": "code",
   "execution_count": 1,
   "metadata": {},
   "outputs": [
    {
     "name": "stdout",
     "output_type": "stream",
     "text": [
      "[5, 7, 97, 77, 23, 73, 61]\n"
     ]
    }
   ],
   "source": [
    "# Python code to illustrate\n",
    "# filter() with lambda()\n",
    "li=[5,7,22,97,54,62,77,23,73,61]\n",
    "\n",
    "final_list=list(filter(lambda x:(x%2 !=0),li))\n",
    "print(final_list)"
   ]
  },
  {
   "cell_type": "code",
   "execution_count": 6,
   "metadata": {},
   "outputs": [
    {
     "name": "stdout",
     "output_type": "stream",
     "text": [
      "[90, 59, 21, 60]\n"
     ]
    }
   ],
   "source": [
    "# Python 3 code to filter people above 18 years\n",
    "ages=[13,90,17,59,21,60,5]\n",
    "\n",
    "ages_list=list(filter(lambda x:(x>18 !=0),ages))\n",
    "print(ages_list)"
   ]
  },
  {
   "cell_type": "code",
   "execution_count": 4,
   "metadata": {},
   "outputs": [
    {
     "data": {
      "text/plain": [
       "[5, 10]"
      ]
     },
     "execution_count": 4,
     "metadata": {},
     "output_type": "execute_result"
    }
   ],
   "source": [
    "num_list=list(range(1,11))\n",
    "sq_list = list(filter(lambda x: x%5 == 0, num_list))\n",
    "sq_list"
   ]
  },
  {
   "cell_type": "code",
   "execution_count": 5,
   "metadata": {},
   "outputs": [
    {
     "data": {
      "text/plain": [
       "[15, 30, 45, 60, 75, 90]"
      ]
     },
     "execution_count": 5,
     "metadata": {},
     "output_type": "execute_result"
    }
   ],
   "source": [
    "num_list=list(range(1,100))\n",
    "sq_list = list(filter(lambda x: (x%15 ) == 0, num_list))\n",
    "sq_list"
   ]
  },
  {
   "cell_type": "code",
   "execution_count": 6,
   "metadata": {},
   "outputs": [
    {
     "data": {
      "text/plain": [
       "[15, 30, 45, 60, 75, 90]"
      ]
     },
     "execution_count": 6,
     "metadata": {},
     "output_type": "execute_result"
    }
   ],
   "source": [
    "num_list=list(range(1,100))\n",
    "sq_list = list(filter(lambda x: (x%3==0) & (x%5==0), num_list))\n",
    "sq_list"
   ]
  },
  {
   "cell_type": "markdown",
   "metadata": {},
   "source": [
    "### <center> Lambda Function with Map\n",
    "Using lambda() Function with map(). The map() function in python takes in a function and a list as an arguments.The function is called with a lambda function and a list and a new list is returned which contains all the lambda modified items returned by that function for each item. Example:"
   ]
  },
  {
   "cell_type": "code",
   "execution_count": 7,
   "metadata": {},
   "outputs": [
    {
     "name": "stdout",
     "output_type": "stream",
     "text": [
      "[10, 14, 44, 194, 108, 124, 154, 46, 146, 122]\n"
     ]
    }
   ],
   "source": [
    "# Python code to illustrate\n",
    "# filter() with lambda()\n",
    "li=[5,7,22,97,54,62,77,23,73,61]\n",
    "\n",
    "final_list=list(map(lambda x:x*2 ,li))\n",
    "print(final_list)"
   ]
  },
  {
   "cell_type": "code",
   "execution_count": 9,
   "metadata": {},
   "outputs": [
    {
     "name": "stdout",
     "output_type": "stream",
     "text": [
      "['DOG', 'CAT', 'PARROT', 'RABBIT']\n"
     ]
    }
   ],
   "source": [
    "# Python program to demonstrate\n",
    "#use of Lambda() Funtion\n",
    "#with map() function\n",
    "animals=['dog','cat','parrot','rabbit']\n",
    "\n",
    "#here we intend to change all animal names\n",
    "#to upper case and return the same \n",
    "uppered_animals=list(map(lambda animal:str.upper(animal),animals))\n",
    " \n",
    "print(uppered_animals)"
   ]
  },
  {
   "cell_type": "code",
   "execution_count": 14,
   "metadata": {},
   "outputs": [
    {
     "name": "stdout",
     "output_type": "stream",
     "text": [
      "[14, 44, 194, 108, 124, 154, 46, 146, 122]\n"
     ]
    }
   ],
   "source": [
    "# nesting the list using map & filter \n",
    "li=[5,7,22,97,54,62,77,23,73,61]\n",
    "\n",
    "nest_list=list(map(lambda x:x*2 ,list(filter(lambda x:x>5,li))))\n",
    "print(nest_list)"
   ]
  },
  {
   "cell_type": "code",
   "execution_count": 2,
   "metadata": {},
   "outputs": [
    {
     "data": {
      "text/plain": [
       "[(3, 1),\n",
       " (4, 4),\n",
       " (5, 9),\n",
       " (6, 16),\n",
       " (7, 25),\n",
       " (8, 36),\n",
       " (9, 49),\n",
       " (10, 64),\n",
       " (11, 81),\n",
       " (12, 100)]"
      ]
     },
     "execution_count": 2,
     "metadata": {},
     "output_type": "execute_result"
    }
   ],
   "source": [
    "num_list = list(range(1,11))\n",
    "sq_list=list(map(lambda x:(x+2,x**2),num_list))\n",
    "sq_list"
   ]
  },
  {
   "cell_type": "code",
   "execution_count": 3,
   "metadata": {},
   "outputs": [
    {
     "name": "stdout",
     "output_type": "stream",
     "text": [
      "Sum list is : [3, 4, 5, 6, 7, 8, 9, 10, 11, 12]\n",
      "Cube list is : [1, 8, 27, 64, 125, 216, 343, 512, 729, 1000]\n"
     ]
    }
   ],
   "source": [
    "lst = range(1,11)\n",
    "lst2 = list(map(lambda x:(x+2,x**3), lst))\n",
    "\n",
    "a = [ i for i,j in lst2]\n",
    "\n",
    "b = [ j for i,j in lst2]\n",
    "\n",
    "print ('Sum list is :', a) \n",
    "print ('Cube list is :', b)"
   ]
  },
  {
   "cell_type": "markdown",
   "metadata": {},
   "source": [
    "### <center> Lambda Function with reduce"
   ]
  },
  {
   "cell_type": "markdown",
   "metadata": {},
   "source": [
    "Using lambda() Funtion with reduce().The reduce() function in Python takes in a function and a list as an argument.The function is callled with a lambda function and an iterable and a new reduced result is returned.The performs a repetitive operation over the pairs of the iterable. The reduce( function belong to the functools module."
   ]
  },
  {
   "cell_type": "code",
   "execution_count": 15,
   "metadata": {},
   "outputs": [
    {
     "name": "stdout",
     "output_type": "stream",
     "text": [
      "193\n"
     ]
    }
   ],
   "source": [
    "# Python code to illustrate\n",
    "# Reduce() with lambda()\n",
    "# to get sum of a list\n",
    "\n",
    "from functools import reduce\n",
    "li=[5,8,10,20,50,100]\n",
    "sum=reduce((lambda x,y:x+y),li)\n",
    "print(sum)"
   ]
  },
  {
   "cell_type": "markdown",
   "metadata": {},
   "source": [
    "Here the results of previous two elemnets are added to the next element and this goes on till the end of the list like (((((5+8)+10)+20)+50)+100)))))."
   ]
  },
  {
   "cell_type": "code",
   "execution_count": 17,
   "metadata": {},
   "outputs": [
    {
     "name": "stdout",
     "output_type": "stream",
     "text": [
      "The maximum element of the list is:6\n"
     ]
    }
   ],
   "source": [
    "# Python code to demonstrate working of reduce()\n",
    "# With a lambda function\n",
    "\n",
    "# Importing functools for reduce()\n",
    "import functools\n",
    "\n",
    "# Initializing list\n",
    "lis=[1,3,5,6,2]\n",
    "\n",
    "# Using reduce to compute maximum element from list\n",
    "print(\"The maximum element of the list is:\",end=\"\")\n",
    "print(functools.reduce(lambda a,b:a if a>b else b, lis))"
   ]
  },
  {
   "cell_type": "code",
   "execution_count": null,
   "metadata": {},
   "outputs": [],
   "source": [
    "# lambda with reduce\n",
    "from functools import reduce\n",
    "num_list=[1,2,3,4]\n",
    "reduce(lambda a,b:a*b,num_list)"
   ]
  },
  {
   "cell_type": "markdown",
   "metadata": {},
   "source": [
    "# <center> List Comrprehension"
   ]
  },
  {
   "cell_type": "markdown",
   "metadata": {},
   "source": [
    "List comprehension offers a shorter syntax when you want to create a new list based on the values of an existing list."
   ]
  },
  {
   "cell_type": "code",
   "execution_count": 19,
   "metadata": {},
   "outputs": [
    {
     "name": "stdout",
     "output_type": "stream",
     "text": [
      "[1, 9, 25, 49, 81]\n"
     ]
    }
   ],
   "source": [
    "# Python program to demonstrate list comprehension in python\n",
    "\n",
    "# Below list contains sqaure of all odd numbers from range 1 to 10\n",
    "odd_sqaure=[x**2 for x in range(1,11) if x%2==1]\n",
    "print(odd_sqaure)"
   ]
  },
  {
   "cell_type": "code",
   "execution_count": 20,
   "metadata": {},
   "outputs": [
    {
     "name": "stdout",
     "output_type": "stream",
     "text": [
      "[1, 9, 25, 49, 81]\n"
     ]
    }
   ],
   "source": [
    "# for understanding, above generation is same as, not very efficient way to do this\n",
    "odd_sqaure=[]\n",
    "for x in range(1,11):\n",
    "    if x%2==1:\n",
    "        odd_sqaure.append(x**2)\n",
    "print(odd_sqaure)"
   ]
  },
  {
   "cell_type": "code",
   "execution_count": 21,
   "metadata": {},
   "outputs": [
    {
     "name": "stdout",
     "output_type": "stream",
     "text": [
      "[2, 4, 8, 16, 32, 64, 128, 256]\n"
     ]
    }
   ],
   "source": [
    "# Below list contains power of 2 from 1 to 8\n",
    "power_of_2=[2**x for x in range(1,9)]\n",
    "print(power_of_2)"
   ]
  },
  {
   "cell_type": "code",
   "execution_count": 23,
   "metadata": {},
   "outputs": [
    {
     "name": "stdout",
     "output_type": "stream",
     "text": [
      "[2, 3, 5, 7, 11, 13, 17, 19, 23, 29, 31, 37, 41, 43, 47]\n"
     ]
    }
   ],
   "source": [
    "# Below list contains prime and non-prime in range 1 to 50\n",
    "non_primes=[j for i in range(2,8) for j in range(i*2,50,i)]\n",
    "primes=[x for x in range(2,50) if x not in non_primes]\n",
    "print(primes)"
   ]
  },
  {
   "cell_type": "code",
   "execution_count": 24,
   "metadata": {},
   "outputs": [
    {
     "name": "stdout",
     "output_type": "stream",
     "text": [
      "['a', 'b', 'c']\n"
     ]
    }
   ],
   "source": [
    "# list for lowering the characters\n",
    "print([x.lower() for x in [\"A\",\"B\",\"C\"]])"
   ]
  },
  {
   "cell_type": "code",
   "execution_count": 25,
   "metadata": {},
   "outputs": [
    {
     "name": "stdout",
     "output_type": "stream",
     "text": [
      "\n",
      "Extracted digits\n",
      "['1', '1', '1', '2', '2']\n"
     ]
    }
   ],
   "source": [
    "#List which extract number\n",
    "string=\"my phone number is: 11122 !! \"\n",
    "\n",
    "print(\"\\nExtracted digits\")\n",
    "numbers=[x for x in string if x.isdigit()]\n",
    "print(numbers)"
   ]
  },
  {
   "cell_type": "code",
   "execution_count": 27,
   "metadata": {},
   "outputs": [
    {
     "name": "stdout",
     "output_type": "stream",
     "text": [
      "\n",
      "Multiplication Table\n",
      "[5, 1, 5]\n",
      "[5, 2, 10]\n",
      "[5, 3, 15]\n",
      "[5, 4, 20]\n",
      "[5, 5, 25]\n",
      "[5, 6, 30]\n",
      "[5, 7, 35]\n",
      "[5, 8, 40]\n",
      "[5, 9, 45]\n",
      "[5, 10, 50]\n"
     ]
    }
   ],
   "source": [
    "# A list of list for multiplication table\n",
    "a=5 \n",
    "table=[[a,b,a*b] for b in range(1,11)]\n",
    "\n",
    "print(\"\\nMultiplication Table\")\n",
    "for i in table:\n",
    "     print(i)"
   ]
  },
  {
   "cell_type": "markdown",
   "metadata": {},
   "source": [
    "### <center> List Comprehension and Lambda"
   ]
  },
  {
   "cell_type": "code",
   "execution_count": 1,
   "metadata": {},
   "outputs": [
    {
     "name": "stdout",
     "output_type": "stream",
     "text": [
      "[1, 3, 5, 7, 9, 11, 13, 15, 17, 19]\n"
     ]
    }
   ],
   "source": [
    "import functools\n",
    " \n",
    "# Filtering odd numbers\n",
    "lst= filter(lambda x:x%2==1,range(1,20))\n",
    "print(list(lst))"
   ]
  },
  {
   "cell_type": "code",
   "execution_count": 2,
   "metadata": {},
   "outputs": [
    {
     "name": "stdout",
     "output_type": "stream",
     "text": [
      "[25]\n"
     ]
    }
   ],
   "source": [
    "# filtering odd sqaure which are divisible by 5\n",
    "lst1=filter(lambda x:x%5==0,[x**2 for x in range(1,11)if x%2==1])\n",
    "print(list(lst1))"
   ]
  },
  {
   "cell_type": "code",
   "execution_count": 7,
   "metadata": {},
   "outputs": [
    {
     "name": "stdout",
     "output_type": "stream",
     "text": [
      "[-5, -4, -3, -2, -1]\n"
     ]
    }
   ],
   "source": [
    "# filtering negative numbers\n",
    "lst2=filter((lambda x:x<0),range(-5,5))\n",
    "print(list(lst2))"
   ]
  },
  {
   "cell_type": "code",
   "execution_count": 5,
   "metadata": {},
   "outputs": [
    {
     "name": "stdout",
     "output_type": "stream",
     "text": [
      "100\n"
     ]
    }
   ],
   "source": [
    "# implementing max() function using\n",
    "print(functools.reduce(lambda a,b:a if (a>b) else b, [7,12,45,100,15]))"
   ]
  },
  {
   "cell_type": "markdown",
   "metadata": {},
   "source": [
    "### Practice exercise"
   ]
  },
  {
   "cell_type": "markdown",
   "metadata": {},
   "source": [
    "##### Question:-\n",
    "Write a Python Program to find numbers divisible by nineteen or thirteen from a list of numbers using lambda. Go to the editor original list:[19,65,57,39,152,639,121,44,90,190] \n",
    "\n",
    "Output:-Numbers of the above list divisible by nineteen or thirteen:[19,65,57,39,152,190].\n",
    "##### Solution:-"
   ]
  },
  {
   "cell_type": "code",
   "execution_count": 13,
   "metadata": {},
   "outputs": [
    {
     "name": "stdout",
     "output_type": "stream",
     "text": [
      "Numbers of the above list divisible by nineteen or thirteen : [19, 65, 57, 39, 152, 190]\n"
     ]
    }
   ],
   "source": [
    "list3=[19,65,57,39,152,639,121,44,90,190]\n",
    "output=list(filter(lambda x:(x % 19 == 0 or x % 13 == 0) , list3))\n",
    "print(\"Numbers of the above list divisible by nineteen or thirteen :\",output)"
   ]
  },
  {
   "cell_type": "markdown",
   "metadata": {},
   "source": [
    "##### Question:-\n",
    "Write a Python program to create a lambda function that adds 15 to a given number passed in as an argument, also create a lambda function that multiplies argument x with argument y and print the result.\n",
    "\n",
    "##### Solution:-"
   ]
  },
  {
   "cell_type": "code",
   "execution_count": null,
   "metadata": {},
   "outputs": [],
   "source": []
  },
  {
   "cell_type": "markdown",
   "metadata": {},
   "source": [
    "##### Question:-\n",
    "Write a Python Program to calculate the sum of the positive and negative numbers of a given list of numbers using lambda function.Go to Editor\n",
    "Original List:[2,4,-6,-9,11,-12,14,-5,17] Sum of the positive numbers:48 Sum of the negative numbers:-32.\n",
    "##### Solution:-"
   ]
  },
  {
   "cell_type": "code",
   "execution_count": 18,
   "metadata": {},
   "outputs": [
    {
     "name": "stdout",
     "output_type": "stream",
     "text": [
      "Original_list: [2, 4, -6, -9, 11, -12, 14, -5, 17]\n",
      "Sum of the positive numbers:  48\n",
      "Sum of the negative numbers:  -32\n"
     ]
    }
   ],
   "source": [
    "Original_list=[2,4,-6,-9,11,-12,14,-5,17]\n",
    "print(\"Original_list:\" ,Original_list)\n",
    "\n",
    "sum1=list(filter(lambda x:x>0,Original_list))\n",
    "print(\"Sum of the positive numbers: \",sum(sum1))\n",
    "\n",
    "sum2=list(filter(lambda x:x<0,Original_list))\n",
    "print(\"Sum of the negative numbers: \",sum(sum2))"
   ]
  },
  {
   "cell_type": "markdown",
   "metadata": {},
   "source": [
    "##### Question:-\n",
    "Write a Python programe to sort a list of tuples using lambda. Original list of tuples:[('English',88),('Science',90),('Maths',97),('Social Sciences',82)]\n",
    "\n",
    "Sorting the list of tuples: [('Social Sciences',82),('English',88),('Science',90),('Maths',97)]\n",
    "##### Solution:-"
   ]
  },
  {
   "cell_type": "code",
   "execution_count": 19,
   "metadata": {},
   "outputs": [
    {
     "data": {
      "text/plain": [
       "[('Social Sciences', 82), ('English', 88), ('Science', 90), ('Maths', 97)]"
      ]
     },
     "execution_count": 19,
     "metadata": {},
     "output_type": "execute_result"
    }
   ],
   "source": [
    "subject_marks=[('English',88),('Science',90),('Maths',97),('Social Sciences',82)]\n",
    "subject_marks.sort(key=lambda x:x[1])\n",
    "subject_marks"
   ]
  },
  {
   "cell_type": "code",
   "execution_count": null,
   "metadata": {},
   "outputs": [],
   "source": []
  }
 ],
 "metadata": {
  "kernelspec": {
   "display_name": "Python 3",
   "language": "python",
   "name": "python3"
  },
  "language_info": {
   "codemirror_mode": {
    "name": "ipython",
    "version": 3
   },
   "file_extension": ".py",
   "mimetype": "text/x-python",
   "name": "python",
   "nbconvert_exporter": "python",
   "pygments_lexer": "ipython3",
   "version": "3.8.8"
  }
 },
 "nbformat": 4,
 "nbformat_minor": 4
}
